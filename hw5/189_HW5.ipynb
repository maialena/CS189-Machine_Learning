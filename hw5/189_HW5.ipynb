{
 "cells": [
  {
   "cell_type": "markdown",
   "metadata": {},
   "source": [
    "# Homework 5"
   ]
  },
  {
   "cell_type": "markdown",
   "metadata": {},
   "source": [
    "by Maia Rosengarten <br/>\n",
    "SID: 23572580<br/>\n",
    "March 27, 2017<br/>"
   ]
  },
  {
   "cell_type": "code",
   "execution_count": 1,
   "metadata": {
    "collapsed": false
   },
   "outputs": [],
   "source": [
    "import matplotlib\n",
    "import numpy as np\n",
    "from numpy import linalg as LA\n",
    "import matplotlib.cm as cm\n",
    "import matplotlib.mlab as mlab\n",
    "import matplotlib.pyplot as plt\n",
    "import math\n",
    "import scipy as sp\n",
    "from scipy.stats import logistic as sig\n",
    "import pandas as pd\n",
    "\n",
    "np.set_printoptions(threshold=np.nan)\n",
    "from scipy import io\n",
    "import sklearn\n",
    "from sklearn.preprocessing import normalize\n",
    "from sklearn.feature_extraction import DictVectorizer as dv\n",
    "from sklearn.preprocessing import Imputer as imp\n",
    "import csv\n",
    "from sklearn.model_selection import train_test_split\n",
    "from sklearn.metrics import accuracy_score\n",
    "%matplotlib inline"
   ]
  },
  {
   "cell_type": "markdown",
   "metadata": {},
   "source": [
    "# NP FNS"
   ]
  },
  {
   "cell_type": "code",
   "execution_count": 2,
   "metadata": {
    "collapsed": true
   },
   "outputs": [],
   "source": [
    "def vec(arr): # d b 1 --> (d, 1)\n",
    "    return arr.reshape((arr.shape[0], 1))"
   ]
  },
  {
   "cell_type": "code",
   "execution_count": 3,
   "metadata": {
    "collapsed": true
   },
   "outputs": [],
   "source": [
    "def arr(vec): # 1 by d --> (d, )\n",
    "    return vec.flatten()"
   ]
  },
  {
   "cell_type": "markdown",
   "metadata": {},
   "source": [
    "# PREPROCESSING FNS"
   ]
  },
  {
   "cell_type": "code",
   "execution_count": 5,
   "metadata": {
    "collapsed": false
   },
   "outputs": [],
   "source": [
    "def preProcessData(dataDF, lstCatFeat, lstNumericFeat, lstDummies):\n",
    "    '''\n",
    "        Iterates over every value of every feature and replaces '?' (missing) with\n",
    "        feature mean (if quantitative) and feature mode (if categorical)\n",
    "        \n",
    "        Args:\n",
    "            designMatrixDF (pandas data frame) - dataframe of design matrix\n",
    "            lstCatFeatIndices (lst) - list of indices of features that are categorical\n",
    "            lstNumFeatIndices (lst) - list of indices of features that are numeric\n",
    "    \n",
    "    '''\n",
    "#     dataDF = dataDF.dropna(axis=1, how='all') #idk if works\n",
    "    dataDF.dropna(axis=0, how='all', inplace=True) #idk if works\n",
    "\n",
    "    copyDataDF = dataDF.copy()\n",
    "    for feat in lstNumericFeat:\n",
    "        copyDataDF[feat].fillna(round(dataDF[feat].mean(), 2), inplace=True)\n",
    "    for feat in lstCatFeat:\n",
    "        copyDataDF[feat].fillna(dataDF[feat].mode()[0], inplace=True)         \n",
    "    copyDataDF = pd.get_dummies(copyDataDF, columns=lstDummies)\n",
    "    return copyDataDF\n",
    "    "
   ]
  },
  {
   "cell_type": "code",
   "execution_count": null,
   "metadata": {
    "collapsed": true
   },
   "outputs": [],
   "source": []
  },
  {
   "cell_type": "markdown",
   "metadata": {},
   "source": [
    "# UTIL FNS"
   ]
  },
  {
   "cell_type": "code",
   "execution_count": 6,
   "metadata": {
    "collapsed": true
   },
   "outputs": [],
   "source": [
    "def plotAccuracies(accuracies, depths):\n",
    "    '''\n",
    "        Plots accuracies as a function od depth\n",
    "        Args:\n",
    "            costs (ndarray) - lst of costs per iteration of gradient descent\n",
    "    '''\n",
    "   \n",
    "    plt.plot(depths, accuracies)\n",
    "    plt.title(\"Prediction Evaluation Decision Tree On Census Data\")\n",
    "    plt.xlabel('max_depth')\n",
    "    plt.ylabel('accuracy')\n",
    "    plt.show()"
   ]
  },
  {
   "cell_type": "code",
   "execution_count": 7,
   "metadata": {
    "collapsed": true
   },
   "outputs": [],
   "source": [
    "def generateCsv(aryPredictions, strCsvName):\n",
    "    '''\n",
    "    Writes predictions of testSet to csv file\n",
    "    Args:\n",
    "        aryPredictions (ndarray) - (nx1)-array of predictions given size n test (or valid) set\n",
    "        strCsvName (str) - name of csv file to write to\n",
    "    '''\n",
    "    with open(strCsvName + '.csv', 'w') as csvfile:\n",
    "        writer = csv.writer(csvfile)\n",
    "        for i in range(len(aryPredictions)):\n",
    "            writer.writerow([i, aryPredictions[i]])\n",
    "    csvfile.close()"
   ]
  },
  {
   "cell_type": "markdown",
   "metadata": {},
   "source": [
    "# 1. DECISION TREE IMPLEMENTATION"
   ]
  },
  {
   "cell_type": "code",
   "execution_count": 147,
   "metadata": {
    "collapsed": false
   },
   "outputs": [],
   "source": [
    "class DecisionTree:\n",
    "    def __init__(self, root=None, max_depth=50, leaf_condition=1):\n",
    "        self.root = root\n",
    "        self.max_depth = max_depth\n",
    "        self.leaf_condition = leaf_condition\n",
    "    \n",
    "    def train(self, train_data, train_labels, sizeFeatSubset):\n",
    "        '''\n",
    "            Sets the root of the decision tree to the root node of the resulting tree from buildTree.\n",
    "            Args:\n",
    "                train_data (ndarray) - cleaned training data\n",
    "                train_lablels (ndarray) - cleaned training labels\n",
    "                height_cap (int) - prevents tree from growing too large\n",
    "        \n",
    "        '''\n",
    "        node_depth = 0\n",
    "        self.root = self.buildTree(train_data, train_labels, self.max_depth, node_depth, sizeFeatSubset, self.leaf_condition)\n",
    "    \n",
    "    def buildTree(self, train_data, train_labels, max_depth, node_depth, sizeFeatSubset, leaf_condition=1):\n",
    "        '''\n",
    "            Recursively grows a decision tree by constructing nodes. Using the impurity and segmenter methods, \n",
    "            attempts to find a configuration of nodes that best splits the input data. \n",
    "            This function figures out the split rules that each node should have and figures out \n",
    "            when to stop growing the tree and insert a leaf node.  \n",
    "            \n",
    "            This phase is training the data.\n",
    "            \n",
    "            Args:\n",
    "                train_data (ndarray) - n by d matrix of cleaned training data\n",
    "                train_labels (ndarray) - n by 1 vector of training labels\n",
    "                max_depth (int) - caps the height of the tree to prevent it from growing too large\n",
    "                \n",
    "        '''\n",
    "        numSamples = train_data.shape[0]\n",
    "        numFeatures = train_data.shape[1]\n",
    "        numClass1 = np.sum(train_labels)\n",
    "        numClass0 = numSamples - numClass1\n",
    "        \n",
    "        isLeaf, label = self.isMajClassLeaf(numSamples, numClass1, numClass0, leaf_condition)\n",
    "        if (isLeaf):\n",
    "            return Node(label=label)\n",
    "        elif (max_depth==0): \n",
    "            if (numClass1 > numClass0):\n",
    "                label = 1\n",
    "            else:\n",
    "                label = 0\n",
    "            return Node(label=label)  \n",
    "        else:\n",
    "            node = Node()\n",
    "            node.chooseSplitRule(train_data, train_labels, sizeFeatSubset)\n",
    "            leftIndices = [] \n",
    "            rightIndices = [] \n",
    "\n",
    "            for i in range(train_data.shape[0]):\n",
    "                if (train_data[i, node.splitFeatIndex] <= node.splitVal):\n",
    "                    leftIndices.append(i)\n",
    "                else:\n",
    "                    rightIndices.append(i)\n",
    "            \n",
    "            leftSetX = train_data[leftIndices, :]\n",
    "            leftSetY = train_labels[leftIndices]\n",
    "\n",
    "            \n",
    "            rightSetX = train_data[rightIndices, :]\n",
    "            rightSetY= train_labels[rightIndices]\n",
    "\n",
    "            sizeRightSet = len(rightSetX)\n",
    "            sizeLeftSet = len(leftSetX)\n",
    "            \n",
    "            if (sizeRightSet==0):\n",
    "                if (np.sum(rightSetY) > sizeRightSet/2):\n",
    "                    return Node(label=1)\n",
    "                return Node(label=0)\n",
    "            \n",
    "            if (sizeLeftSet==0):\n",
    "                if (np.sum(leftSetY)> sizeLeftSet/2):\n",
    "                    return Node(label=1)\n",
    "                return Node(label=0)\n",
    "                \n",
    "            max_depth -=1\n",
    "            node_depth+=1\n",
    "            return Node(featureIndex=node.splitFeatIndex, splitVal=node.splitVal, leftChild=self.buildTree(leftSetX, leftSetY, max_depth, node_depth, sizeFeatSubset, leaf_condition), rightChild=self.buildTree(rightSetX, rightSetY, max_depth, node_depth, sizeFeatSubset, leaf_condition), parentNode=node, depth=node_depth)\n",
    "    \n",
    "         \n",
    "    def predictPointWithPrint(self, node, data_point, lstFeatures):\n",
    "        '''\n",
    "            Given a data point, traverse the tree to find the best label to classify the data point. \n",
    "            Start at the root node and evaluate split rules as you traverse until you reach a leaf. \n",
    "            Choose that leaf nodes label as your output label.\n",
    "            \n",
    "            data_point (ndarray) - (dx1) single point to classify with d features \n",
    "        \n",
    "        '''\n",
    "        if (node is None):\n",
    "            print('Error: root in tree is None')\n",
    "            return None\n",
    "        if (node.label is not None):\n",
    "            tortn = node.label\n",
    "            print('Therefore the class is ' + str(tortn) + \"\\n\")\n",
    "            return tortn  \n",
    "        if (data_point[node.splitFeatIndex] <= node.splitVal):\n",
    "            print(\"('\" + str(lstFeatures[node.splitFeatIndex] + \"') <= \" + str(node.splitVal)))\n",
    "            return self.predictPointWithPrint(node.left, data_point, lstFeatures)\n",
    "        else:\n",
    "            print(\"('\" + str(lstFeatures[node.splitFeatIndex] + \"') > \" + str(node.splitVal)))      \n",
    "            return self.predictPointWithPrint(node.right, data_point, lstFeatures)\n",
    "    \n",
    "    def predictWithPrint(self, dataMatrix, dataLabels, lstFeatures):\n",
    "        '''\n",
    "            Given a matrix of test samples, predict labels.\n",
    "            \n",
    "            dataMatrix (ndarray) - (nxd) unseen samples with d dimensions \n",
    "        ''' \n",
    "        predictions = []\n",
    "        for i in range(dataMatrix.shape[0]):\n",
    "            print(\"Predicting sample\" + str(i) + \": \")\n",
    "            print(\"Actual class: \" + str(dataLabels[i]))\n",
    "            label = self.predictPointWithPrint(self.root, dataMatrix[i], lstFeatures)\n",
    "            predictions.append(label)\n",
    "        return predictions\n",
    "                    \n",
    "    \n",
    "    def predictPoint(self, node, data_point):\n",
    "        '''\n",
    "            Given a data point, traverse the tree to find the best label to classify the data point. \n",
    "            Start at the root node and evaluate split rules as you traverse until you reach a leaf. \n",
    "            Choose that leaf nodes label as your output label.\n",
    "            \n",
    "            data_point (ndarray) - (dx1) single point to classify with d features \n",
    "        \n",
    "        '''\n",
    "        if (node is None):\n",
    "            print('Error: root in tree is None')\n",
    "            return None\n",
    "        if (node.label is not None):\n",
    "            return node.label  \n",
    "        if (data_point[node.splitFeatIndex] <= node.splitVal):\n",
    "            return self.predictPoint(node.left, data_point)\n",
    "        else:\n",
    "            return self.predictPoint(node.right, data_point)\n",
    "    \n",
    "    def predict(self, dataMatrix):\n",
    "        '''\n",
    "            Given a matrix of test samples, predict labels.\n",
    "            \n",
    "            dataMatrix (ndarray) - (nxd) unseen samples with d dimensions \n",
    "        ''' \n",
    "        predictions = []\n",
    "        for i in range(dataMatrix.shape[0]):\n",
    "            label = self.predictPoint(self.root, dataMatrix[i])\n",
    "            predictions.append(label)\n",
    "        return predictions\n",
    "    \n",
    "    def isMajClassLeaf(self, numSamples, numClass1, numClass0, threshold):\n",
    "        '''\n",
    "            Returns (True, y) if threshold% of points in a node are of a particular class\n",
    "            where y is the label of the leaf.\n",
    "\n",
    "        '''     \n",
    "        if (numClass1 >= (threshold * numSamples)):\n",
    "            return True, 1\n",
    "        elif (numClass0 >= (threshold * numSamples)):\n",
    "            return True, 0\n",
    "        return False, None\n",
    "    \n",
    "    def visualize_tree(self, filename):\n",
    "        graph = pydot.Dot(graph_type=\"graph\")\n",
    "        visited, queue = set(), [self.root]\n",
    "        while queue:\n",
    "            node = queue.pop()\n",
    "            try:\n",
    "                if node not in visited:\n",
    "                    visited.add(node)\n",
    "                    if node.label is None:\n",
    "                        parent_node = pydot.Node(str(node.splitFeatIndex + \" : \" + node.splitVal))\n",
    "                        if node.left is not None:\n",
    "                            if node.left.label is not None:\n",
    "                                left_label = node.left.label\n",
    "                            else:\n",
    "                                left_label = str(node.left.splitFeatIndex + \" : \" + node.left.splitVal)\n",
    "                            left_node = pydot.Node(left_label)\n",
    "                            queue.append(left_node)\n",
    "                            graph.add_edge(pydot.Edge(parent_node, left_node))\n",
    "                        if node.right is not None:\n",
    "                            if node.right.label is not None:\n",
    "                                right_label = node.right.label\n",
    "                            else:\n",
    "                                right_label = str(node.right.splitFeatIndex + \" : \" + node.right.splitVal)\n",
    "                            right_node = pydot.Node(right_label)\n",
    "                            queue.append(right_node)\n",
    "                            graph.add_edge(pydot.Edge(parent_node, right_node))\n",
    "            except:\n",
    "                pass\n",
    "        graph.write_png(filename + '.png')\n",
    "                        "
   ]
  },
  {
   "cell_type": "code",
   "execution_count": null,
   "metadata": {
    "collapsed": true
   },
   "outputs": [],
   "source": []
  },
  {
   "cell_type": "markdown",
   "metadata": {},
   "source": [
    "# 1. RANDOM FOREST IMPLEMENTATION"
   ]
  },
  {
   "cell_type": "code",
   "execution_count": 53,
   "metadata": {
    "collapsed": false
   },
   "outputs": [],
   "source": [
    "class RandomForest:\n",
    "    def __init__(self, numTrees, train_data, train_labels, leaf_condition):\n",
    "        self.train_data = train_data\n",
    "        self.train_labels = train_labels\n",
    "        self.trees = []\n",
    "        self.numTrees = numTrees\n",
    "        self.leaf_condition = leaf_condition\n",
    "        for i in range(self.numTrees):\n",
    "            self.trees.append(DecisionTree(leaf_condition=self.leaf_condition))          \n",
    "                     \n",
    "    def train(self, train_data, sizeFeatSubset):\n",
    "        for tree in self.trees:\n",
    "            numSamples = self.train_data.shape[0]\n",
    "            randomSamples = np.random.choice(numSamples, numSamples, replace=True)\n",
    "            subset_data = self.train_data[randomSamples]\n",
    "            subset_labels = self.train_labels[randomSamples]\n",
    "            tree.train(subset_data, subset_labels, sizeFeatSubset)\n",
    "    \n",
    "    def predict(self, valid_data):\n",
    "        predictions = []\n",
    "        for point in valid_data:\n",
    "            labels = []\n",
    "            for tree in self.trees:\n",
    "                labels.append(tree.predictPoint(tree.root, point))\n",
    "            if (np.sum(labels) >= 0.5 * self.numTrees):\n",
    "                predictions.append(1)\n",
    "            else:\n",
    "                predictions.append(0)\n",
    "        return predictions"
   ]
  },
  {
   "cell_type": "code",
   "execution_count": 44,
   "metadata": {
    "collapsed": false
   },
   "outputs": [],
   "source": [
    "class Node:\n",
    "    def __init__(self, featureIndex=0, splitVal=None, leftChild=None, rightChild=None, parentNode=None, label=None, depth=1):\n",
    "        self.splitFeatIndex = featureIndex \n",
    "        self.splitVal = splitVal\n",
    "        self.left = leftChild\n",
    "        self.right = rightChild\n",
    "        self.parent = parentNode\n",
    "        self.label = label \n",
    "        self.depth = depth\n",
    "    \n",
    "    \n",
    "    def chooseSplitRule(self, train_data, train_labels, sizeFeatSubset):\n",
    "        '''\n",
    "            Finds the best split rule for a Node using the impurity measure and input data. \n",
    "            Exhaustively tries threshold values from the data and chooses the combination of \n",
    "            split feature and threshold with the lowest impurity value. \n",
    "           \n",
    "            Args:\n",
    "               train_data (ndarray) - cleaned train data \n",
    "               train_labels (ndarray) - train labels\n",
    "            \n",
    "            Returns (bestSplitFeatIndex, bestSplitValue)\n",
    "                 \n",
    "            \n",
    "            If xi is quantitative, sort points in S by feature xi; \n",
    "            remove duplicates; [duplicate values, not points]\n",
    "            try splitting between each pair of consecutive values.\n",
    "            [We can radix sort the values in linear time, and if n is huge we should.]\n",
    "            \n",
    "            Clever Bit: As you scan sorted list from left to right, \n",
    "            you can update entropy in O(1) time per point! \n",
    "            [This is important for obtaining a fast tree-building time.] <--GO OVER THIS.\n",
    "            \n",
    "            Need to deal with case when a child is empty (skip that split)\n",
    "    \n",
    "        '''\n",
    "        #<= split value --> left, > split value --> right\n",
    "        \n",
    "        currNodeSize = len(train_data)\n",
    "        currClass1Count = sum(train_labels) \n",
    "        currClass0Count = currNodeSize - currClass1Count\n",
    "        currNodeEntropy = self.computeEntropy((currNodeSize, currClass0Count, currClass1Count))\n",
    "        bestInfoGain = -float(\"inf\")\n",
    " \n",
    "        labelDictRight = {0: currClass0Count, 1: currClass1Count}\n",
    "        labelDictLeft = {0:0, 1:0}\n",
    "        sizeRightSet = currNodeSize\n",
    "        sizeLeftSet = 0\n",
    "        for featureIndex in np.random.choice(train_data.shape[1], sizeFeatSubset, replace=False):\n",
    "            sortedIndices = np.argsort(train_data[:, featureIndex])\n",
    "            sortedVals = np.sort(train_data[:, featureIndex])\n",
    "            \n",
    "            lstUniqueVal, lstUniqueCounts = np.unique(sortedVals, return_counts=True)\n",
    "            runningIndex = - 1\n",
    "            for i in range(len(lstUniqueVal)):\n",
    "                runningIndex += (lstUniqueCounts[i])\n",
    "                tempSplitVal = lstUniqueVal[i]\n",
    "                \n",
    "                sizeLeftSet = runningIndex + 1\n",
    "                sizeRightSet = currNodeSize - sizeLeftSet\n",
    "                \n",
    "                labelDictLeft[1] = np.sum(train_labels[sortedIndices[:runningIndex+1]])\n",
    "                labelDictRight[1] = np.sum(train_labels[sortedIndices[runningIndex+1:]])\n",
    "                labelDictRight[0] = sizeRightSet - labelDictRight[1]\n",
    "                labelDictLeft[0] = sizeLeftSet - labelDictLeft[1]\n",
    "                \n",
    "                tupSizeLeftClassCounts = (sizeLeftSet, labelDictLeft[0], labelDictLeft[1])\n",
    "                tupSizeRightClassCounts = (sizeRightSet, labelDictRight[0], labelDictRight[1])\n",
    "                entropyAfterSplit = self.entropyAfterSplit(tupSizeLeftClassCounts, tupSizeRightClassCounts) \n",
    "                infoGain = currNodeEntropy - entropyAfterSplit\n",
    "                \n",
    "                if infoGain > bestInfoGain:\n",
    "                    bestInfoGain = infoGain\n",
    "                    bestSplitVal = tempSplitVal\n",
    "                    bestSplitIndex = featureIndex \n",
    "  \n",
    "        self.splitFeatIndex = bestSplitIndex \n",
    "        self.splitVal = bestSplitVal\n",
    "              \n",
    "    def entropyAfterSplit(self, tupSizeLeftClassCounts, tupSizeRightClassCounts):\n",
    "        '''\n",
    "            A method that takes in the result of a split: two histograms\n",
    "            that count the frequencies of labels on the ”left” and ”right” side of that split.\n",
    "            Calculates and outputs a scalar value representing the impurity (”badness”) of the \n",
    "            specified split on the input data. In lecture, this was refered to as H_after where H\n",
    "            is the function that computes entropy.\n",
    "            \n",
    "            Args:\n",
    "                tupSizeLeftClassCounts (tup) - \n",
    "                tupSizeRightClassCounts (tup) - \n",
    "        \n",
    "        '''\n",
    "        sizeLeftSet = tupSizeLeftClassCounts[0]\n",
    "        sizeRightSet = tupSizeRightClassCounts[0]\n",
    "\n",
    "        entropyLeft = self.computeEntropy(tupSizeLeftClassCounts)\n",
    "        entropyRight = self.computeEntropy(tupSizeRightClassCounts)\n",
    "        entropyAfterSplit = (entropyLeft * sizeLeftSet + entropyRight * sizeRightSet)/ (sizeLeftSet + sizeRightSet)\n",
    "        return entropyAfterSplit\n",
    "    \n",
    "    \n",
    "    def computeEntropy(self, tupleSizeSetClassCounts):\n",
    "        '''\n",
    "            Compute the entropy of a set (assume 2 classes). \n",
    "            \n",
    "            Args:\n",
    "                tupleSetSizeClassSize (tup) - (cardinality of set, cardinality of class 0 in set) \n",
    "        '''\n",
    "        sizeSet, countClass0, countClass1 = tupleSizeSetClassCounts\n",
    "        if (sizeSet==0):\n",
    "            return 0\n",
    "        probClass0 = countClass0/sizeSet\n",
    "        if (probClass0 == 1 or probClass0 == 0):\n",
    "            return 0\n",
    "        else: \n",
    "            entropy = (- probClass0 * np.log2(probClass0)) - ((1 - probClass0) * np.log2(1 - probClass0))\n",
    "        return entropy"
   ]
  },
  {
   "cell_type": "markdown",
   "metadata": {},
   "source": [
    "# 4a) Performance Eval - SPAM"
   ]
  },
  {
   "cell_type": "code",
   "execution_count": 28,
   "metadata": {
    "collapsed": false
   },
   "outputs": [],
   "source": [
    "spamData = sp.io.loadmat(\"dist/spam_data.mat\")\n",
    "spamData.keys()\n",
    "spamTrainX = spamData['training_data']\n",
    "spamTrainY = spamData['training_labels']\n",
    "spamTest = spamData['test_data']\n",
    "\n",
    "combined = np.hstack([spamTrainX, spamTrainY.T])\n",
    "np.random.shuffle(combined)\n",
    "combined = imp().fit_transform(combined)\n",
    "\n",
    "spamTrainX = combined[:, :-1]\n",
    "spamTrainY = combined[:, -1]\n",
    "\n",
    "trainX, validX, trainY, validY = train_test_split(spamTrainX, spamTrainY, test_size=.1, random_state=42)"
   ]
  },
  {
   "cell_type": "markdown",
   "metadata": {},
   "source": [
    "Decision Tree Performance"
   ]
  },
  {
   "cell_type": "code",
   "execution_count": 48,
   "metadata": {
    "collapsed": false
   },
   "outputs": [],
   "source": [
    "sizeFeatSubset = trainX.shape[1]\n",
    "spamDecision = DecisionTree(max_depth=50, leaf_condition=.84)\n",
    "spamDecision.train(trainX, trainY, sizeFeatSubset)"
   ]
  },
  {
   "cell_type": "code",
   "execution_count": 49,
   "metadata": {
    "collapsed": false
   },
   "outputs": [],
   "source": [
    "validPredictionsSpam = spamDecision.predict(validX)\n",
    "validAccuracySpam = accuracy_score(validY, validPredictionsSpam)\n",
    "\n",
    "trainPredictionsSpam = spamDecision.predict(trainX)\n",
    "trainAccuracySpam = accuracy_score(trainY, trainPredictionsSpam)"
   ]
  },
  {
   "cell_type": "code",
   "execution_count": 63,
   "metadata": {
    "collapsed": false
   },
   "outputs": [
    {
     "name": "stdout",
     "output_type": "stream",
     "text": [
      "Decision Tree Performance on Spam\n",
      "----------------------------------\n",
      "validation accuracy: 76.63%\n",
      "training accuracy: 79.55%\n"
     ]
    }
   ],
   "source": [
    "print(\"Decision Tree Performance on Spam\")\n",
    "print(\"----------------------------------\")\n",
    "print(\"validation accuracy: \" + str(round(validAccuracySpam * 100, 2)) + \"%\")\n",
    "print(\"training accuracy: \" + str(round(trainAccuracySpam * 100, 2)) + \"%\")"
   ]
  },
  {
   "cell_type": "code",
   "execution_count": null,
   "metadata": {
    "collapsed": false
   },
   "outputs": [],
   "source": [
    "testPredictionsSpam = spamDecision.predict(spamTest)\n",
    "# generateCsv(testPredictionsSpam, 'sundaySpam')"
   ]
  },
  {
   "cell_type": "markdown",
   "metadata": {},
   "source": [
    "Decision Forest Performance"
   ]
  },
  {
   "cell_type": "code",
   "execution_count": 64,
   "metadata": {
    "collapsed": false
   },
   "outputs": [],
   "source": [
    "num_trees = 50\n",
    "leaf_condition = 0.84\n",
    "sizeFeatSubset = int(np.sqrt(trainX.shape[1]))\n",
    "randForestSpam = RandomForest(num_trees, trainX, trainY, leaf_condition)\n",
    "randForestSpam.train(trainX, sizeFeatSubset)"
   ]
  },
  {
   "cell_type": "code",
   "execution_count": 65,
   "metadata": {
    "collapsed": false
   },
   "outputs": [],
   "source": [
    "validPredictionsSpamForest = randForestSpam.predict(validX)\n",
    "validAccuracySpamForest = accuracy_score(validY, validPredictionsSpamForest)"
   ]
  },
  {
   "cell_type": "code",
   "execution_count": 66,
   "metadata": {
    "collapsed": false
   },
   "outputs": [],
   "source": [
    "trainPredictionsSpamForest = randForestSpam.predict(trainX)\n",
    "trainAccuracySpamForest = accuracy_score(trainY, trainPredictionsSpamForest)"
   ]
  },
  {
   "cell_type": "code",
   "execution_count": 86,
   "metadata": {
    "collapsed": false
   },
   "outputs": [
    {
     "name": "stdout",
     "output_type": "stream",
     "text": [
      "Decision Forest Performance on Spam:\n",
      "----------------------------------\n",
      "validation accuracy 73.94%\n",
      "training accuracy 75.88%\n"
     ]
    }
   ],
   "source": [
    "print(\"Decision Forest Performance on Spam:\")\n",
    "print(\"----------------------------------\")\n",
    "print(\"validation accuracy \" + str(round(validAccuracySpamForest * 100, 2)) + \"%\")\n",
    "print(\"training accuracy \" + str(round(trainAccuracySpamForest * 100, 2)) + \"%\")"
   ]
  },
  {
   "cell_type": "code",
   "execution_count": 87,
   "metadata": {
    "collapsed": false
   },
   "outputs": [
    {
     "name": "stdout",
     "output_type": "stream",
     "text": [
      "SUBMITTED DECISION TREE PREDICTIONS FOR SPAM\n",
      "----------------------------------\n",
      "KAGGLE NAME: maiarose\n",
      "KAGGLE SCORE: \n"
     ]
    }
   ],
   "source": [
    "print(\"SUBMITTED DECISION TREE PREDICTIONS FOR SPAM\")\n",
    "print(\"----------------------------------\")\n",
    "print(\"KAGGLE NAME: maiarose\")\n",
    "print(\"KAGGLE SCORE: \")"
   ]
  },
  {
   "cell_type": "markdown",
   "metadata": {},
   "source": [
    "# 4b) Titanic"
   ]
  },
  {
   "cell_type": "code",
   "execution_count": 69,
   "metadata": {
    "collapsed": false
   },
   "outputs": [],
   "source": [
    "titanicTest = pd.read_csv(\"hw5_titanic_dist/titanic_testing_data.csv\")\n",
    "titanicTrain = pd.read_csv(\"hw5_titanic_dist/titanic_training.csv\")\n",
    "\n",
    "titanicLabels = titanicTrain.iloc[0:, 0:1]\n",
    "titanicTrain = titanicTrain.loc[0:, [\"pclass\", \"sex\", \"age\", \"sibsp\", \"parch\", \"ticket\", \"fare\", \"cabin\", \"embarked\"]]\n",
    "\n",
    "headers = vec(np.array(list(titanicTrain))).T\n",
    "lstNumericFeat = arr(headers[:, [2, 5, 6]])\n",
    "lstCatFeat = arr(headers[:, [0, 1, 3, 4, 8]])"
   ]
  },
  {
   "cell_type": "code",
   "execution_count": 70,
   "metadata": {
    "collapsed": false
   },
   "outputs": [],
   "source": [
    "titanicTrain['ticket'].replace(regex=True,inplace=True,to_replace=r'\\D',value=r'')\n",
    "titanicTest['ticket'].replace(regex=True,inplace=True,to_replace=r'\\D',value=r'')\n",
    "titanicTrain.drop('cabin', axis=1, inplace=True)\n",
    "titanicTest.drop('cabin', axis=1, inplace=True)"
   ]
  },
  {
   "cell_type": "code",
   "execution_count": 71,
   "metadata": {
    "collapsed": false
   },
   "outputs": [],
   "source": [
    "indexToElim = titanicTrain.index[titanicTrain.isnull().all(axis=1)][0]\n",
    "titanicLabels = titanicLabels.drop([705])\n",
    "\n",
    "lstDummies = [\"sex\", \"embarked\"]\n",
    "titanicTrain = preProcessData(titanicTrain, lstCatFeat, lstNumericFeat, lstDummies)\n",
    "titanicTest = preProcessData(titanicTest, lstCatFeat, lstNumericFeat, lstDummies)"
   ]
  },
  {
   "cell_type": "code",
   "execution_count": 72,
   "metadata": {
    "collapsed": false
   },
   "outputs": [],
   "source": [
    "lstTitanicFeatures = list(titanicTrain)"
   ]
  },
  {
   "cell_type": "code",
   "execution_count": 73,
   "metadata": {
    "collapsed": true
   },
   "outputs": [],
   "source": [
    "titanicTrain = titanicTrain.as_matrix()\n",
    "titanicLabels = titanicLabels.as_matrix()\n",
    "titanicTest = titanicTest.as_matrix()\n",
    "\n",
    "combined = np.hstack([titanicTrain, titanicLabels])\n",
    "np.random.shuffle(combined)\n",
    "titanicTrainX = combined[:, :-1]\n",
    "titanicTrainY = combined[:, -1]\n",
    "\n",
    "trainX, validX, trainY, validY = train_test_split(titanicTrainX, titanicTrainY, test_size=.1, random_state=42)"
   ]
  },
  {
   "cell_type": "markdown",
   "metadata": {},
   "source": [
    "Decision Tree Performance - Titanic"
   ]
  },
  {
   "cell_type": "code",
   "execution_count": 76,
   "metadata": {
    "collapsed": false
   },
   "outputs": [],
   "source": [
    "sizeFeatSubset = trainX.shape[1]\n",
    "titanicTree = DecisionTree(max_depth=50, leaf_condition=.84)\n",
    "titanicTree.train(trainX, trainY, sizeFeatSubset)\n",
    "validPredictionsTitanic = titanicTree.predict(validX)"
   ]
  },
  {
   "cell_type": "code",
   "execution_count": 77,
   "metadata": {
    "collapsed": false
   },
   "outputs": [],
   "source": [
    "lstCorrectLabelsValid = [1 for i in range(len(validY)) if validY[i]==validPredictionsTitanic[i]]\n",
    "validAccuracyTitanic = np.sum(lstCorrectLabelsValid)/len(validY)"
   ]
  },
  {
   "cell_type": "code",
   "execution_count": 78,
   "metadata": {
    "collapsed": false
   },
   "outputs": [],
   "source": [
    "trainPredictionsTitanic = titanicTree.predict(trainX)\n",
    "lstCorrectLabelsTrain = [1 for i in range(len(trainY)) if trainY[i]==trainPredictionsTitanic[i]]\n",
    "trainAccuracyTitanic = np.sum(lstCorrectLabelsTrain)/len(trainY)"
   ]
  },
  {
   "cell_type": "code",
   "execution_count": 88,
   "metadata": {
    "collapsed": false
   },
   "outputs": [
    {
     "name": "stdout",
     "output_type": "stream",
     "text": [
      "Decision Tree Performance on Titanic\n",
      "----------------------------------\n",
      "validation accuracy: 80.0%\n",
      "training accuracy: 91.99%\n"
     ]
    }
   ],
   "source": [
    "print(\"Decision Tree Performance on Titanic\")\n",
    "print(\"----------------------------------\")\n",
    "print(\"validation accuracy: \" + str(round(validAccuracyTitanic * 100, 2)) + \"%\")\n",
    "print(\"training accuracy: \" + str(round(trainAccuracyTitanic * 100, 2)) + \"%\")"
   ]
  },
  {
   "cell_type": "markdown",
   "metadata": {},
   "source": [
    "Decision Forest Performance - Titanic"
   ]
  },
  {
   "cell_type": "code",
   "execution_count": 81,
   "metadata": {
    "collapsed": false
   },
   "outputs": [],
   "source": [
    "num_trees = 50\n",
    "leaf_condition = 0.84\n",
    "sizeFeatSubset = int(np.sqrt(trainX.shape[1]))\n",
    "randForestTitanic = RandomForest(num_trees, trainX, trainY, leaf_condition)\n",
    "randForestTitanic.train(trainX, sizeFeatSubset)"
   ]
  },
  {
   "cell_type": "code",
   "execution_count": 82,
   "metadata": {
    "collapsed": false
   },
   "outputs": [],
   "source": [
    "validPredictionsTitanicForest = randForestTitanic.predict(validX)\n",
    "lstCorrectLabelsForest = [1 for i in range(len(validY)) if validY[i]==validPredictionsTitanicForest[i]]\n",
    "validAccuracyTitanicForest = np.sum(lstCorrectLabelsForest)/len(validY)"
   ]
  },
  {
   "cell_type": "code",
   "execution_count": 83,
   "metadata": {
    "collapsed": false
   },
   "outputs": [],
   "source": [
    "trainPredictionsTitanicForest = randForestTitanic.predict(trainX)\n",
    "lstCorrectLabelsForest = [1 for i in range(len(trainY)) if trainY[i]==trainPredictionsTitanicForest[i]]\n",
    "trainAccuracyTitanicForest = np.sum(lstCorrectLabelsForest)/len(trainY)"
   ]
  },
  {
   "cell_type": "code",
   "execution_count": 96,
   "metadata": {
    "collapsed": false
   },
   "outputs": [
    {
     "name": "stdout",
     "output_type": "stream",
     "text": [
      "SUBMITTED DECISION TREE PREDICTIONS FOR Titanic\n",
      "----------------------------------\n",
      "KAGGLE NAME: maiarose\n",
      "KAGGLE SCORE: 83.87%\n"
     ]
    }
   ],
   "source": [
    "print(\"SUBMITTED DECISION TREE PREDICTIONS FOR Titanic\")\n",
    "print(\"----------------------------------\")\n",
    "print(\"KAGGLE NAME: maiarose\")\n",
    "print(\"KAGGLE SCORE: 83.87%\")"
   ]
  },
  {
   "cell_type": "code",
   "execution_count": 109,
   "metadata": {
    "collapsed": false
   },
   "outputs": [],
   "source": [
    "testPredictionsTitanicTree = titanicTree.predict(titanicTest)\n",
    "generateCsv(testPredictionsTitanicTree, 'sundayTitanic')"
   ]
  },
  {
   "cell_type": "markdown",
   "metadata": {},
   "source": [
    "# 4c) Census"
   ]
  },
  {
   "cell_type": "code",
   "execution_count": 98,
   "metadata": {
    "collapsed": false
   },
   "outputs": [],
   "source": [
    "censusTest = pd.read_csv(\"hw5_census_dist/test_data.csv\")\n",
    "censusTrain = pd.read_csv(\"hw5_census_dist/train_data.csv\")\n",
    "\n",
    "censusLabels = censusTrain.iloc[:, -1].to_frame()\n",
    "censusTrain = censusTrain.loc[:, [\"age\", \"workclass\", \"fnlwgt\", \"education\", \"education-num\", \"marital-status\", \"occupation\", \"relationship\", \"race\", \"sex\", \"capital-gain\", \"capital-loss\", \"hours-per-week\", \"native-country\"]]\n",
    "\n",
    "headers = vec(np.array(list(censusTrain))).T\n",
    "lstNumericFeat = arr(headers[:, [0, 2, 4, 10, 11, 12]])\n",
    "lstCatFeat = arr(headers[:, [1, 3, 5, 6, 7, 8, 9, 13]])"
   ]
  },
  {
   "cell_type": "code",
   "execution_count": 99,
   "metadata": {
    "collapsed": true
   },
   "outputs": [],
   "source": [
    "lstDummies = [\"workclass\", \"education\", \"marital-status\", \"occupation\", \"relationship\", \"race\", \"sex\", \"native-country\"]\n",
    "censusTrain = preProcessData(censusTrain, lstCatFeat, lstNumericFeat, lstDummies)\n",
    "censusTest = preProcessData(censusTest, lstCatFeat, lstNumericFeat, lstDummies)"
   ]
  },
  {
   "cell_type": "code",
   "execution_count": 100,
   "metadata": {
    "collapsed": false
   },
   "outputs": [],
   "source": [
    "lstCensusFeatures = list(censusTrain)"
   ]
  },
  {
   "cell_type": "code",
   "execution_count": 101,
   "metadata": {
    "collapsed": false
   },
   "outputs": [],
   "source": [
    "censusTrain = censusTrain.as_matrix()\n",
    "censusLabels = censusLabels.as_matrix()\n",
    "censusTest = censusTest.as_matrix()\n",
    "\n",
    "combined = np.hstack([censusTrain, censusLabels])\n",
    "np.random.shuffle(combined)\n",
    "\n",
    "censusTrainX = combined[:, :-1]\n",
    "censusTrainY = combined[:, -1]\n",
    "\n",
    "trainX, validX, trainY, validY = train_test_split(censusTrainX, censusTrainY, test_size=.1, random_state=42)"
   ]
  },
  {
   "cell_type": "markdown",
   "metadata": {},
   "source": [
    "Decision Tree Performance - Census"
   ]
  },
  {
   "cell_type": "code",
   "execution_count": 105,
   "metadata": {
    "collapsed": false
   },
   "outputs": [],
   "source": [
    "censusTree = DecisionTree(max_depth=50, leaf_condition=.84)\n",
    "sizeFeatSubset = trainX.shape[1]\n",
    "censusTree.train(trainX, trainY, sizeFeatSubset)"
   ]
  },
  {
   "cell_type": "code",
   "execution_count": 106,
   "metadata": {
    "collapsed": true
   },
   "outputs": [],
   "source": [
    "validPredictionsCensus = censusTree.predict(validX)\n",
    "validAccuracyCensus = accuracy_score(validY, validPredictionsCensus)"
   ]
  },
  {
   "cell_type": "code",
   "execution_count": 107,
   "metadata": {
    "collapsed": false
   },
   "outputs": [],
   "source": [
    "trainPredictionsCensus = censusTree.predict(trainX)\n",
    "trainAccuracyCensus = accuracy_score(trainY, trainPredictionsCensus)"
   ]
  },
  {
   "cell_type": "code",
   "execution_count": 108,
   "metadata": {
    "collapsed": false
   },
   "outputs": [],
   "source": [
    "testPredictionsCensusTree = censusTree.predict(censusTest)\n",
    "generateCsv(testPredictionsCensusTree, 'sundayCensus')"
   ]
  },
  {
   "cell_type": "code",
   "execution_count": 109,
   "metadata": {
    "collapsed": false
   },
   "outputs": [
    {
     "name": "stdout",
     "output_type": "stream",
     "text": [
      "Decision Tree Performance on Census\n",
      "----------------------------------\n",
      "validation accuracy: 82.74%\n",
      "training accuracy: 93.57%\n",
      "\n",
      "\n"
     ]
    }
   ],
   "source": [
    "print(\"Decision Tree Performance on Census\")\n",
    "print(\"----------------------------------\")\n",
    "print(\"validation accuracy: \" + str(round(validAccuracyCensus * 100, 2)) + \"%\")\n",
    "print(\"training accuracy: \" + str(round(trainAccuracyCensus * 100, 2)) + \"%\")\n",
    "print(\"\\n\")"
   ]
  },
  {
   "cell_type": "markdown",
   "metadata": {},
   "source": [
    "Decision Forest Performance - Census"
   ]
  },
  {
   "cell_type": "code",
   "execution_count": 112,
   "metadata": {
    "collapsed": false
   },
   "outputs": [],
   "source": [
    "num_trees = 10\n",
    "leaf_condition = 0.84\n",
    "sizeSubsetFeat = int(np.sqrt(trainX.shape[1]))\n",
    "randForestCensus = RandomForest(num_trees, trainX, trainY, leaf_condition)\n",
    "randForestCensus.train(trainX, sizeSubsetFeat)"
   ]
  },
  {
   "cell_type": "code",
   "execution_count": 113,
   "metadata": {
    "collapsed": true
   },
   "outputs": [],
   "source": [
    "validPredictionsCensusForest = randForestCensus.predict(validX)\n",
    "validAccuracyCensusForest = accuracy_score(validY, validPredictionsCensusForest)\n",
    "\n",
    "trainPredictionsCensusForest = randForestCensus.predict(trainX)\n",
    "trainAccuracyCensusForest = accuracy_score(trainY, trainPredictionsCensusForest)"
   ]
  },
  {
   "cell_type": "code",
   "execution_count": 114,
   "metadata": {
    "collapsed": false
   },
   "outputs": [
    {
     "name": "stdout",
     "output_type": "stream",
     "text": [
      "Decision Forest Performance on Census\n",
      "----------------------------------\n",
      "validation accuracy 79.0%\n",
      "training accuracy 83.98%\n"
     ]
    }
   ],
   "source": [
    "print(\"Decision Forest Performance on Census\")\n",
    "print(\"----------------------------------\")\n",
    "print(\"validation accuracy \" + str(round(validAccuracyTitanicForest * 100, 2)) + \"%\")\n",
    "print(\"training accuracy \" + str(round(trainAccuracyTitanicForest * 100, 2)) + \"%\")"
   ]
  },
  {
   "cell_type": "markdown",
   "metadata": {},
   "source": [
    "# 5a)"
   ]
  },
  {
   "cell_type": "markdown",
   "metadata": {},
   "source": [
    "I did not use any extra features."
   ]
  },
  {
   "cell_type": "markdown",
   "metadata": {},
   "source": [
    "# 5b) Spam Splits"
   ]
  },
  {
   "cell_type": "code",
   "execution_count": 115,
   "metadata": {
    "collapsed": false
   },
   "outputs": [],
   "source": [
    "def chooseRandSamples(trainX, trainY):\n",
    "    '''\n",
    "        Selects and returns a random point for each class (0 and 1) from the data set\n",
    "        \n",
    "        Args:\n",
    "            trainX (ndarray) - training data with n samples, d features \n",
    "            trainY (ndarray) - (nx1) array of labels for the training data\n",
    "    '''\n",
    "    sampleClass0 = None\n",
    "    sampleClass1 = None\n",
    "    while True:\n",
    "        random = np.random.choice(trainX.shape[0], replace=False)\n",
    "        if (trainY[random] == 1):\n",
    "            sampleClass1 = trainX[random, :]\n",
    "        else:\n",
    "            sampleClass0 = trainX[random, :]\n",
    "        if (sampleClass1 is not None and sampleClass0 is not None):\n",
    "            return sampleClass0, sampleClass1"
   ]
  },
  {
   "cell_type": "code",
   "execution_count": 116,
   "metadata": {
    "collapsed": false
   },
   "outputs": [],
   "source": [
    "sampleClass0, sampleClass1 = chooseRandSamples(spamTrainX, spamTrainY)"
   ]
  },
  {
   "cell_type": "code",
   "execution_count": 117,
   "metadata": {
    "collapsed": false
   },
   "outputs": [],
   "source": [
    "mini_matrix = np.vstack([sampleClass0, sampleClass1])\n",
    "labels = [0, 1]"
   ]
  },
  {
   "cell_type": "code",
   "execution_count": 118,
   "metadata": {
    "collapsed": true
   },
   "outputs": [],
   "source": [
    "lstFeaturesSpam = [\"pain\", \"private\", \"bank\", \"money\", \"drug\", \"spam\", \"prescription\", \"creative\", \"height\", \"featured\", \"differ\", \"width\", \"other\", \"energy\", \"business\", \"message\", \"volumes\", \"revision\", \"path\", \"meter\", \"memo\", \"planning\", \"pleased\", \"record\", \"out\", \";\", \"$\", \"#\", \"!\", \"(\", \"[\", \"&\"]"
   ]
  },
  {
   "cell_type": "code",
   "execution_count": 129,
   "metadata": {
    "collapsed": false
   },
   "outputs": [
    {
     "name": "stdout",
     "output_type": "stream",
     "text": [
      "SPAM DECISION TREE ON TWO SAMPLES\n",
      "KEY: 0 --> Ham, 1--> Spam \n",
      "\n",
      "Predicting sample0: \n",
      "Actual class: 0\n",
      "('!') <= 0.0\n",
      "('(') <= 0.0\n",
      "('meter') <= 0.0\n",
      "(';') > 1.0\n",
      "('[') <= 0.0\n",
      "Therefore the class is 0\n",
      "\n",
      "Predicting sample1: \n",
      "Actual class: 1\n",
      "('!') <= 0.0\n",
      "('(') <= 0.0\n",
      "('meter') <= 0.0\n",
      "(';') <= 1.0\n",
      "('creative') <= 0.0\n",
      "('energy') <= 0.0\n",
      "('money') <= 0.0\n",
      "('pain') <= 0.0\n",
      "('&') <= 0.0\n",
      "('$') > 0.0\n",
      "('[') <= 0.0\n",
      "('message') <= 0.0\n",
      "('volumes') <= 0.0\n",
      "('prescription') <= 0.0\n",
      "('spam') <= 0.0\n",
      "('$') <= 42.0\n",
      "('business') <= 1.0\n",
      "('out') <= 0.0\n",
      "('planning') <= 0.0\n",
      "('record') <= 1.0\n",
      "('#') <= 3.0\n",
      "('pleased') <= 0.0\n",
      "('other') <= 0.0\n",
      "('path') <= 0.0\n",
      "('$') <= 18.0\n",
      "('$') <= 13.0\n",
      "('$') <= 9.0\n",
      "('private') <= 0.0\n",
      "('$') <= 5.0\n",
      "(';') <= 0.0\n",
      "('bank') <= 0.0\n",
      "('$') <= 1.0\n",
      "('business') <= 0.0\n",
      "('record') <= 0.0\n",
      "('#') <= 0.0\n",
      "Therefore the class is 0\n",
      "\n"
     ]
    },
    {
     "data": {
      "text/plain": [
       "[0, 0]"
      ]
     },
     "execution_count": 129,
     "metadata": {},
     "output_type": "execute_result"
    }
   ],
   "source": [
    "print(\"SPAM DECISION TREE ON TWO SAMPLES\")\n",
    "\n",
    "print(\"KEY: 0 --> Ham, 1--> Spam \\n\")\n",
    "spamDecision.predictWithPrint(mini_matrix, labels, lstFeaturesSpam)"
   ]
  },
  {
   "cell_type": "markdown",
   "metadata": {},
   "source": [
    "# 5c) Spam Forest Popular Splits"
   ]
  },
  {
   "cell_type": "code",
   "execution_count": 120,
   "metadata": {
    "collapsed": false
   },
   "outputs": [
    {
     "name": "stdout",
     "output_type": "stream",
     "text": [
      "Forest: 50 trees\n",
      "Feature: 9 --> Val: 0.0 (5 trees)\n",
      "Feature: 21 --> Val: 0.0 (1 trees)\n",
      "Feature: 3 --> Val: 0.0 (4 trees)\n",
      "Feature: 26 --> Val: 0.0 (5 trees)\n",
      "Feature: 6 --> Val: 0.0 (2 trees)\n",
      "Feature: 29 --> Val: 0.0 (6 trees)\n",
      "Feature: 20 --> Val: 0.0 (1 trees)\n",
      "Feature: 16 --> Val: 0.0 (6 trees)\n",
      "Feature: 5 --> Val: 0.0 (3 trees)\n",
      "Feature: 28 --> Val: 0.0 (2 trees)\n",
      "Feature: 19 --> Val: 0.0 (5 trees)\n",
      "Feature: 25 --> Val: 3.0 (1 trees)\n",
      "Feature: 31 --> Val: 0.0 (5 trees)\n",
      "Feature: 13 --> Val: 0.0 (4 trees)\n"
     ]
    }
   ],
   "source": [
    "dictSplitFeatVal2Count = {(tree.root.splitFeatIndex, tree.root.splitVal):0 for tree in randForestSpam.trees}\n",
    "print(\"Forest: \" + str(len(randForestSpam.trees)) + \" trees\")\n",
    "for tree in randForestSpam.trees:\n",
    "    dictSplitFeatVal2Count[(tree.root.splitFeatIndex, tree.root.splitVal)] +=1\n",
    "for tup, count in dictSplitFeatVal2Count.items():\n",
    "    print(\"Feature: \" + str(tup[0]) + \" --> Val: \" + str(tup[1]) + \" (\" + str(count) + \" trees)\")"
   ]
  },
  {
   "cell_type": "markdown",
   "metadata": {},
   "source": [
    "# 6a)"
   ]
  },
  {
   "cell_type": "markdown",
   "metadata": {},
   "source": [
    "NA -- didn't change any features."
   ]
  },
  {
   "cell_type": "markdown",
   "metadata": {},
   "source": [
    "# 6b)"
   ]
  },
  {
   "cell_type": "code",
   "execution_count": 121,
   "metadata": {
    "collapsed": false
   },
   "outputs": [],
   "source": [
    "censusClass0, censusClass1 = chooseRandSamples(censusTrainX, censusTrainY)"
   ]
  },
  {
   "cell_type": "code",
   "execution_count": 122,
   "metadata": {
    "collapsed": false
   },
   "outputs": [],
   "source": [
    "mini_matrix_census = np.vstack([censusClass0, censusClass1])\n",
    "labels = [0, 1]"
   ]
  },
  {
   "cell_type": "code",
   "execution_count": 124,
   "metadata": {
    "collapsed": false
   },
   "outputs": [
    {
     "name": "stdout",
     "output_type": "stream",
     "text": [
      "CENSUS DECISION TREE ON TWO SAMPLES\n",
      "KEY: 0 --> Under 50,000, 1--> Over 50,000 \n",
      "\n",
      "Predicting sample0: \n",
      "Actual class: 0\n",
      "('marital-status_Married-civ-spouse') <= 0\n",
      "Therefore the class is 0\n",
      "\n",
      "Predicting sample1: \n",
      "Actual class: 1\n",
      "('marital-status_Married-civ-spouse') > 0\n",
      "('education-num') > 11\n",
      "('capital-gain') <= 5013\n",
      "('capital-loss') <= 1740\n",
      "('age') > 28\n",
      "('hours-per-week') > 30\n",
      "('capital-gain') <= 4386\n",
      "('capital-loss') <= 1485\n",
      "('education-num') > 13\n",
      "('race_White') > 0\n",
      "('occupation_Exec-managerial') > 0\n",
      "Therefore the class is 1\n",
      "\n"
     ]
    },
    {
     "data": {
      "text/plain": [
       "[0, 1]"
      ]
     },
     "execution_count": 124,
     "metadata": {},
     "output_type": "execute_result"
    }
   ],
   "source": [
    "print(\"CENSUS DECISION TREE ON TWO SAMPLES\")\n",
    "print(\"KEY: 0 --> Under 50,000, 1--> Over 50,000 \\n\")\n",
    "censusTree.predictWithPrint(mini_matrix_census, labels, lstCensusFeatures)"
   ]
  },
  {
   "cell_type": "markdown",
   "metadata": {},
   "source": [
    "# 6c) Popular Forest Splits (Census)"
   ]
  },
  {
   "cell_type": "code",
   "execution_count": 125,
   "metadata": {
    "collapsed": false
   },
   "outputs": [
    {
     "name": "stdout",
     "output_type": "stream",
     "text": [
      "Forest: 10 trees\n",
      "Feature: 5 --> Val: 41 (1 trees)\n",
      "Feature: 64 --> Val: 0 (2 trees)\n",
      "Feature: 2 --> Val: 12 (1 trees)\n",
      "Feature: 53 --> Val: 0 (2 trees)\n",
      "Feature: 33 --> Val: 0 (1 trees)\n",
      "Feature: 56 --> Val: 0 (1 trees)\n",
      "Feature: 54 --> Val: 0 (1 trees)\n",
      "Feature: 0 --> Val: 28 (1 trees)\n"
     ]
    }
   ],
   "source": [
    "dictSplitFeatVal2Count = {(tree.root.splitFeatIndex, tree.root.splitVal):0 for tree in randForestCensus.trees}\n",
    "print(\"Forest: \" + str(len(randForestCensus.trees)) + \" trees\")\n",
    "for tree in randForestCensus.trees:\n",
    "    dictSplitFeatVal2Count[(tree.root.splitFeatIndex, tree.root.splitVal)] +=1\n",
    "for tup, count in dictSplitFeatVal2Count.items():\n",
    "    print(\"Feature: \" + str(tup[0]) + \" --> Val: \" + str(tup[1]) + \" (\" + str(count) + \" trees)\")"
   ]
  },
  {
   "cell_type": "markdown",
   "metadata": {},
   "source": [
    "# 6d) Experimenting with Depths (Census)"
   ]
  },
  {
   "cell_type": "code",
   "execution_count": 127,
   "metadata": {
    "collapsed": false
   },
   "outputs": [
    {
     "data": {
      "text/plain": [
       "11"
      ]
     },
     "execution_count": 127,
     "metadata": {},
     "output_type": "execute_result"
    }
   ],
   "source": [
    "depths = list(range(1, 50, 10))\n",
    "trainX, validX, trainY, validY = train_test_split(censusTrainX, censusTrainY, test_size=.2, random_state=42)\n",
    "accuraciesCensus = []\n",
    "\n",
    "sizeFeatSubset = trainX.shape[1]\n",
    "for i in depths:\n",
    "    censusTree = DecisionTree(max_depth=i, leaf_condition=.84)\n",
    "    censusTree.train(trainX, trainY, sizeFeatSubset)\n",
    "\n",
    "    validPredictionsCensus = censusTree.predict(validX)\n",
    "    validAccuracyCensus = accuracy_score(validY, validPredictionsCensus)\n",
    "    accuraciesCensus.append(validAccuracyCensus)\n",
    "\n",
    "best_depth = depths[np.argmax(accuraciesCensus)]\n",
    "best_depth"
   ]
  },
  {
   "cell_type": "code",
   "execution_count": 128,
   "metadata": {
    "collapsed": false
   },
   "outputs": [
    {
     "data": {
      "image/png": "[encoded data removed]",
      "text/plain": [
       "<matplotlib.figure.Figure at 0x10f657c18>"
      ]
     },
     "metadata": {},
     "output_type": "display_data"
    }
   ],
   "source": [
    "plotAccuracies(accuraciesCensus, depths)"
   ]
  },
  {
   "cell_type": "code",
   "execution_count": null,
   "metadata": {
    "collapsed": true
   },
   "outputs": [],
   "source": []
  },
  {
   "cell_type": "markdown",
   "metadata": {},
   "source": [
    "# 7 Titanic Tree Visualization"
   ]
  },
  {
   "cell_type": "code",
   "execution_count": 160,
   "metadata": {
    "collapsed": false
   },
   "outputs": [],
   "source": [
    "# import pydot"
   ]
  },
  {
   "cell_type": "code",
   "execution_count": 219,
   "metadata": {
    "collapsed": false
   },
   "outputs": [],
   "source": [
    "titanicShallowTree = DecisionTree(max_depth=3, leaf_condition=.84)\n",
    "trainX, validX, trainY, validY = train_test_split(titanicTrainX, titanicTrainY, test_size=.1, random_state=42)\n",
    "sizeFeatSubset = trainX.shape[1]\n",
    "titanicShallowTree.train(trainX, trainY, sizeFeatSubset)"
   ]
  },
  {
   "cell_type": "code",
   "execution_count": 236,
   "metadata": {
    "collapsed": false
   },
   "outputs": [
    {
     "name": "stdout",
     "output_type": "stream",
     "text": [
      "root: feat sex_female --> val 0\n",
      "level 1 left: feat ticket --> val 2668\n",
      "level 1 right: feat pclass --> val 2.0\n",
      "level 2 left>left feat age --> val 6.0\n",
      "level 2 left>right LEAF class 0\n",
      "level 2 right>left LEAF class 1\n",
      "level 2 right>right: feat fare --> val 23.25\n",
      "level 3 left>left>left LEAF class 1\n",
      "level 3 left>left>right: LEAF class 0\n",
      "level 3 right>right>right LEAF class 0\n",
      "level 3 right>right>left LEAF class 1\n"
     ]
    }
   ],
   "source": [
    "root = titanicShallowTree.root\n",
    "print('root: feat ' + str(lstTitanicFeatures[root.splitFeatIndex]) + \" --> val \" + str(root.splitVal))\n",
    "left = root.left\n",
    "print('level 1 left: feat ' + str(lstTitanicFeatures[left.splitFeatIndex]) + \" --> val \" + str(left.splitVal))\n",
    "right = root.right\n",
    "print('level 1 right: feat ' + str(lstTitanicFeatures[right.splitFeatIndex]) + \" --> val \" + str(right.splitVal))\n",
    "leftLeft = left.left\n",
    "leftRight = left.right\n",
    "rightLeft = right.left\n",
    "rightRight = right.right\n",
    "print('level 2 left>left feat ' + str(lstTitanicFeatures[leftLeft.splitFeatIndex]) + \" --> val \" + str(leftLeft.splitVal))\n",
    "print('level 2 left>right LEAF class ' + str(leftRight.label))\n",
    "\n",
    "print('level 2 right>left LEAF class ' + str(rightLeft.label))\n",
    "print('level 2 right>right: feat ' + str(lstTitanicFeatures[rightRight.splitFeatIndex]) + \" --> val \" + str(rightRight.splitVal))\n",
    "\n",
    "#leaves\n",
    "leftLeftLeft = leftLeft.left \n",
    "leftLeftRight = leftLeft.right \n",
    "rightRightLeft = rightRight.left\n",
    "rightRightRight = rightRight.right \n",
    "\n",
    "print('level 3 left>left>left LEAF class ' + str(leftLeftLeft.label))\n",
    "print('level 3 left>left>right: LEAF class ' + str(leftLeftRight.label))\n",
    "print('level 3 right>right>right LEAF class ' + str(rightRightRight.label))\n",
    "print('level 3 right>right>left LEAF class ' + str(rightRightLeft.label))\n"
   ]
  },
  {
   "cell_type": "code",
   "execution_count": 159,
   "metadata": {
    "collapsed": false
   },
   "outputs": [],
   "source": []
  },
  {
   "cell_type": "code",
   "execution_count": 157,
   "metadata": {
    "collapsed": false
   },
   "outputs": [],
   "source": []
  },
  {
   "cell_type": "code",
   "execution_count": null,
   "metadata": {
    "collapsed": false
   },
   "outputs": [],
   "source": []
  },
  {
   "cell_type": "code",
   "execution_count": null,
   "metadata": {
    "collapsed": false
   },
   "outputs": [],
   "source": []
  },
  {
   "cell_type": "code",
   "execution_count": null,
   "metadata": {
    "collapsed": true
   },
   "outputs": [],
   "source": []
  }
 ],
 "metadata": {
  "anaconda-cloud": {},
  "kernelspec": {
   "display_name": "Python [189hw]",
   "language": "python",
   "name": "Python [189hw]"
  },
  "language_info": {
   "codemirror_mode": {
    "name": "ipython",
    "version": 3
   },
   "file_extension": ".py",
   "mimetype": "text/x-python",
   "name": "python",
   "nbconvert_exporter": "python",
   "pygments_lexer": "ipython3",
   "version": "3.5.2"
  }
 },
 "nbformat": 4,
 "nbformat_minor": 0
}
