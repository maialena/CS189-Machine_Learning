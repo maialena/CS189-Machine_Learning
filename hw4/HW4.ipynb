{
 "cells": [
  {
   "cell_type": "markdown",
   "metadata": {},
   "source": [
    "# Homework 4"
   ]
  },
  {
   "cell_type": "code",
   "execution_count": 1,
   "metadata": {
    "collapsed": false
   },
   "outputs": [
    {
     "name": "stdout",
     "output_type": "stream",
     "text": [
      "by Maia Rosengarten\n",
      "February 27th, 2017\n",
      "Collaborators: Lara McConnaughey and Anwar Baroudi\n"
     ]
    }
   ],
   "source": [
    "print('by Maia Rosengarten')\n",
    "print('February 27th, 2017')\n",
    "print('Collaborators: Lara McConnaughey and Anwar Baroudi')"
   ]
  },
  {
   "cell_type": "code",
   "execution_count": 9,
   "metadata": {
    "collapsed": false
   },
   "outputs": [],
   "source": [
    "import matplotlib\n",
    "import numpy as np\n",
    "from numpy import linalg as LA\n",
    "import matplotlib.cm as cm\n",
    "import matplotlib.mlab as mlab\n",
    "import matplotlib.pyplot as plt\n",
    "import math\n",
    "import scipy as sp\n",
    "from scipy.stats import logistic as sig\n",
    "\n",
    "np.set_printoptions(threshold=np.nan)\n",
    "from scipy import io\n",
    "import sklearn\n",
    "from sklearn.preprocessing import normalize\n",
    "import csv\n",
    "from sklearn.model_selection import train_test_split\n",
    "from sklearn.metrics import accuracy_score\n",
    "%matplotlib inline"
   ]
  },
  {
   "cell_type": "code",
   "execution_count": null,
   "metadata": {
    "collapsed": false
   },
   "outputs": [],
   "source": [
    "def computeCost(X, y, w, regConst):\n",
    "    prob = sp.special.expit(np.dot(X, w))\n",
    "    ret = (regConst * np.linalg.norm(w)**2) - (vec(y).T.dot(np.log(prob + 0.000001)) + (1-vec(y)).T.dot(np.log(1 - prob + 0.000001)))\n",
    "    return arr(ret)"
   ]
  },
  {
   "cell_type": "code",
   "execution_count": 155,
   "metadata": {
    "collapsed": true
   },
   "outputs": [],
   "source": [
    "def computeSGDGradient(X,  y, w, regConst, i, prob):\n",
    "    n = X.shape[0]\n",
    "    y = vec(y)\n",
    "    w = vec(w)\n",
    "    ret = (2 * regConst * w) - (vec((y[i] - prob)) * vec(X[i]))\n",
    "    print('grad in sgd ' + str(ret))\n",
    "    return ret"
   ]
  },
  {
   "cell_type": "code",
   "execution_count": 218,
   "metadata": {
    "collapsed": false
   },
   "outputs": [],
   "source": [
    "def computeBatchGradient(X, y, w, regConst, prob):\n",
    "    n = X.shape[0]\n",
    "    y = vec(y)\n",
    "    w = vec(w)\n",
    "    prob = vec(prob)\n",
    "    ret= (2 * regConst * w) - (X.T.dot(y-prob))\n",
    "    print('ret in batch ' + str(ret))\n",
    "    return ret"
   ]
  },
  {
   "cell_type": "code",
   "execution_count": 13,
   "metadata": {
    "collapsed": true
   },
   "outputs": [],
   "source": [
    "def arr(vec): # 1 by d --> (d, )\n",
    "    return np.matrix.flatten(vec)"
   ]
  },
  {
   "cell_type": "code",
   "execution_count": 14,
   "metadata": {
    "collapsed": true
   },
   "outputs": [],
   "source": [
    "def vec(arr): # d b 1 --> (d, 1)\n",
    "    return arr.reshape((arr.shape[0], 1))"
   ]
  },
  {
   "cell_type": "code",
   "execution_count": 351,
   "metadata": {
    "collapsed": false
   },
   "outputs": [],
   "source": [
    "def computeStochGradientDescent(X, y, alpha, regConst, numIterations, dec):\n",
    "    '''Computes stochastic gradient descent\n",
    "    Args: \n",
    "        X (ndarray) - training data\n",
    "        y (ndarray) - training labels\n",
    "        alpha (int) - learning rate\n",
    "        precision (int) - used for termination condition\n",
    "        numFeat (int) - number of features\n",
    "    Returns updated weight vector and lst of costs per iteration\n",
    "    ''' \n",
    "    w = np.zeros((X.shape[0], 1))\n",
    "    costs = [0 for i in range(numIterations)]\n",
    "    \n",
    "    for i in range(numIterations):\n",
    "        ran = np.random.randint(0, X.shape[0])\n",
    "        costs[i] = computeCost(X, y, w, regConst)[0] \n",
    "        prob = sp.special.expit(X[ran].T.dot(w))\n",
    "#         gradient = computeSGDGradient(X, y, w, regConst, ran, prob)\n",
    "#         w = vec(w)\n",
    "        w = w - alpha * ((2 * regConst * w) - (vec(y)[i] - np.reshape(sp.special.expit(X[ran].T.dot(w)), (1, 1))) * vec(X[i]))\n",
    "#         w = w - alpha * gradient\n",
    "        print(w)\n",
    "        w = arr(w)\n",
    "        if dec==True and i!=0:\n",
    "            alpha = alpha * 1/i\n",
    "    return w, costs"
   ]
  },
  {
   "cell_type": "code",
   "execution_count": 353,
   "metadata": {
    "collapsed": false
   },
   "outputs": [],
   "source": [
    "def computeBatchGradientDescent(X, y, alpha, regConst, numIterations, dec):\n",
    "    '''\n",
    "        Computes batch gradient descent\n",
    "        Args: \n",
    "            X (ndarray) - training data\n",
    "            y (ndarray) - training labels\n",
    "            alpha (int) - learning rate\n",
    "            regConst (int) - lambda parameter to weight l2 regularization term\n",
    "            precision (int) - used for termination condition\n",
    "            numFeat (int) - number of features\n",
    "        Returns updated weight vector and number of iterations\n",
    "    ''' \n",
    "#     starting_point = X[1].dot(y[1])\n",
    "    w = np.zeros((X.shape[1], 1))\n",
    "    costs = [0 for i in range(numIterations)]\n",
    "    for i in range(numIterations):\n",
    "        costs[i] = computeCost(X, y, w, regConst)[0]\n",
    "        w = w - alpha * ((2 * regConst * w) - (np.dot(X.T, vec(y)-np.reshape(sp.special.expit(np.dot(X, w)), (X.shape[0], 1)))))\n",
    "    return w, costs"
   ]
  },
  {
   "cell_type": "code",
   "execution_count": 206,
   "metadata": {
    "collapsed": true
   },
   "outputs": [],
   "source": [
    "def plotCostFN(costs):\n",
    "    '''\n",
    "        Plots cost function as a function of number of iterations\n",
    "        Args:\n",
    "            costs (ndarray) - lst of costs per iteration of gradient descent\n",
    "    '''\n",
    "   \n",
    "    iters = [i for i in range(len(costs))]\n",
    "    plt.plot(iters, costs)\n",
    "    plt.xscale(\"log\")\n",
    "    plt.title(\"Cost Per Iteration of Gradient Descent\")\n",
    "    plt.xlabel('numIterations')\n",
    "    plt.ylabel('cost')\n",
    "    plt.show()"
   ]
  },
  {
   "cell_type": "code",
   "execution_count": 349,
   "metadata": {
    "collapsed": true
   },
   "outputs": [],
   "source": [
    "def classifyPoints(weightVect, data):\n",
    "    '''\n",
    "        Given data, computes sigmoid to approximate likelihood of being in class 1. If greater than 0.5->class1, else class0\n",
    "    \n",
    "    '''\n",
    "    predictions = [0 for i in range(data.shape[0])]\n",
    "    for x in range(data.shape[0]):\n",
    "        prob = sp.special.expit(vec(data[x]).T.dot(weightVect))\n",
    "#         print(prob.shape)\n",
    "#         print(prob[0][0])\n",
    "#         print('prob classify' + str(prob))\n",
    "        if prob > 0.5:\n",
    "            predictions[x] = 1\n",
    "    return predictions"
   ]
  },
  {
   "cell_type": "code",
   "execution_count": 63,
   "metadata": {
    "collapsed": false
   },
   "outputs": [],
   "source": [
    "def computeAcc(predictions, validY):\n",
    "    '''\n",
    "        Given predicted labels and valid labels, compute error rate\n",
    "    '''\n",
    "    return acc(validY, predictions)   "
   ]
  },
  {
   "cell_type": "code",
   "execution_count": 20,
   "metadata": {
    "collapsed": true
   },
   "outputs": [],
   "source": [
    "def generateCsv(aryPredictions, strCsvName):\n",
    "    '''\n",
    "    Writes predictions of testSet to csv file\n",
    "    Args:\n",
    "        aryPredictions (ndarray) - (nx1)-array of predictions given size n test (or valid) set\n",
    "        strCsvName (str) - name of csv file to write to\n",
    "    '''\n",
    "    with open(strCsvName + '.csv', 'w') as csvfile:\n",
    "        writer = csv.writer(csvfile)\n",
    "        for i in range(len(aryPredictions)):\n",
    "            writer.writerow([i, aryPredictions[i]])\n",
    "    csvfile.close()"
   ]
  },
  {
   "cell_type": "markdown",
   "metadata": {},
   "source": [
    "# Problem 1.4"
   ]
  },
  {
   "cell_type": "code",
   "execution_count": 21,
   "metadata": {
    "collapsed": false
   },
   "outputs": [],
   "source": [
    "X = np.array([[0, 3, 1], [1, 3, 1], [0, 1, 1], [1, 1, 1]]).reshape(4, 3)\n",
    "y = np.array([1, 1, 0, 0])\n",
    "w = np.array([-2, 1, 0])\n",
    "lam = 0.07"
   ]
  },
  {
   "cell_type": "code",
   "execution_count": 22,
   "metadata": {
    "collapsed": false
   },
   "outputs": [],
   "source": [
    "import scipy.optimize as opt"
   ]
  },
  {
   "cell_type": "code",
   "execution_count": 55,
   "metadata": {
    "collapsed": true
   },
   "outputs": [],
   "source": [
    "def computeGradient(lam, w, X, y, s):\n",
    "    return 2 * lam * w - X.T.dot(y - s)"
   ]
  },
  {
   "cell_type": "markdown",
   "metadata": {},
   "source": [
    "# (a)"
   ]
  },
  {
   "cell_type": "code",
   "execution_count": 10,
   "metadata": {
    "collapsed": false
   },
   "outputs": [
    {
     "data": {
      "text/plain": [
       "(4,)"
      ]
     },
     "execution_count": 10,
     "metadata": {},
     "output_type": "execute_result"
    }
   ],
   "source": [
    "s = sp.special.expit(X.dot(w))"
   ]
  },
  {
   "cell_type": "markdown",
   "metadata": {},
   "source": [
    "# (b)"
   ]
  },
  {
   "cell_type": "code",
   "execution_count": null,
   "metadata": {
    "collapsed": true
   },
   "outputs": [],
   "source": [
    "gradient = computeGradient(lam, w, X, y, s)\n",
    "hessian = computeHessian(lam, w, X, y, s)\n",
    "w = w - gradient/hessian"
   ]
  },
  {
   "cell_type": "markdown",
   "metadata": {},
   "source": [
    "# (c)"
   ]
  },
  {
   "cell_type": "code",
   "execution_count": null,
   "metadata": {
    "collapsed": true
   },
   "outputs": [],
   "source": [
    "s = sp.special.expit(X.dot(w))"
   ]
  },
  {
   "cell_type": "markdown",
   "metadata": {},
   "source": [
    "# (d)"
   ]
  },
  {
   "cell_type": "code",
   "execution_count": null,
   "metadata": {
    "collapsed": true
   },
   "outputs": [],
   "source": [
    "gradient = computeGradient(lam, w, X, y, s)\n",
    "hessian = computeHessian(lam, w, X, y, s)\n",
    "w = w - gradient/hessian"
   ]
  },
  {
   "cell_type": "markdown",
   "metadata": {},
   "source": [
    "\n",
    "# Problem 4"
   ]
  },
  {
   "cell_type": "code",
   "execution_count": 107,
   "metadata": {
    "collapsed": true
   },
   "outputs": [],
   "source": [
    "data = sp.io.loadmat('data.mat')"
   ]
  },
  {
   "cell_type": "code",
   "execution_count": 293,
   "metadata": {
    "collapsed": false
   },
   "outputs": [
    {
     "name": "stdout",
     "output_type": "stream",
     "text": [
      "\n"
     ]
    }
   ],
   "source": [
    "testSet = data['X_test']\n",
    "trainX = data['X']\n",
    "trainY = data['y']\n",
    "\n",
    "sklearn.preprocessing.normalize(testSet.astype(float))\n",
    "sklearn.preprocessing.normalize(trainX.astype(float))\n",
    "\n",
    "combined = np.hstack([trainX, trainY])\n",
    "np.random.shuffle(combined)\n",
    "trainX = combined[:, :-1]\n",
    "trainY = combined[:, -1]\n",
    "trainX = np.hstack([trainX, np.array([1] * 6000).reshape(6000,1)])\n",
    "trainX, validX, trainY, validY = train_test_split(trainX, trainY, test_size=.1, random_state=42)\n",
    "print(\"\")\n"
   ]
  },
  {
   "cell_type": "code",
   "execution_count": 308,
   "metadata": {
    "collapsed": true
   },
   "outputs": [],
   "source": [
    "# alpha = 0.001\n",
    "# regConst = 0.01\n",
    "# numIterations = 100000\n",
    "# no norm 94.4%\n",
    "\n",
    "\n",
    "# alpha = 0.000001\n",
    "# regConst = 0.001\n",
    "# numIterations = 1000000\n",
    "# no normalized 92.4%\n",
    "\n",
    "# alpha = 0.000001\n",
    "# regConst = 0.0001\n",
    "# numIterations = 1000\n",
    "# #.90 with new ness\n",
    "# # .924 normalized before.\n",
    "\n",
    "# alpha = .01\n",
    "# regConst = 0.01\n",
    "# numIterations = 10000\n",
    "# #.89\n",
    "\n",
    "# alpha = 10\n",
    "# regConst = 0.07\n",
    "# numIteratoins = 100\n",
    "# #.89\n",
    "\n",
    "alpha = .001\n",
    "regConst = .007\n",
    "numIterations = 10000\n",
    "#.939\n"
   ]
  },
  {
   "cell_type": "markdown",
   "metadata": {},
   "source": [
    "# 4.1 Batch Gradient Descent"
   ]
  },
  {
   "cell_type": "code",
   "execution_count": 344,
   "metadata": {
    "collapsed": false
   },
   "outputs": [],
   "source": [
    "wBatch, costsBatch = computeBatchGradientDescent(trainX, trainY, alpha, regConst, numIterations, False)"
   ]
  },
  {
   "cell_type": "code",
   "execution_count": 345,
   "metadata": {
    "collapsed": false,
    "scrolled": false
   },
   "outputs": [
    {
     "name": "stdout",
     "output_type": "stream",
     "text": [
      "classify 1\n",
      "classify 1\n",
      "classify 1\n",
      "classify 1\n",
      "classify 1\n",
      "classify 1\n",
      "classify 1\n",
      "classify 1\n",
      "classify 1\n",
      "classify 1\n",
      "classify 1\n",
      "classify 1\n",
      "classify 1\n",
      "classify 1\n",
      "classify 1\n",
      "classify 1\n",
      "classify 1\n",
      "classify 1\n",
      "classify 1\n",
      "classify 1\n",
      "classify 1\n",
      "classify 1\n",
      "classify 1\n",
      "classify 1\n",
      "classify 1\n",
      "classify 1\n",
      "classify 1\n",
      "classify 1\n",
      "classify 1\n",
      "classify 1\n",
      "classify 1\n",
      "classify 1\n",
      "classify 1\n",
      "classify 1\n",
      "classify 1\n",
      "classify 1\n",
      "classify 1\n",
      "classify 1\n",
      "classify 1\n",
      "classify 1\n",
      "classify 1\n",
      "classify 1\n",
      "classify 1\n",
      "classify 1\n",
      "classify 1\n",
      "classify 1\n",
      "classify 1\n",
      "classify 1\n",
      "classify 1\n",
      "classify 1\n",
      "classify 1\n",
      "classify 1\n",
      "classify 1\n",
      "classify 1\n",
      "classify 1\n",
      "classify 1\n",
      "classify 1\n",
      "classify 1\n",
      "classify 1\n",
      "classify 1\n",
      "classify 1\n",
      "classify 1\n",
      "classify 1\n",
      "classify 1\n",
      "classify 1\n",
      "classify 1\n",
      "classify 1\n",
      "classify 1\n",
      "classify 1\n",
      "classify 1\n",
      "classify 1\n",
      "classify 1\n",
      "classify 1\n",
      "classify 1\n",
      "classify 1\n",
      "classify 1\n",
      "classify 1\n",
      "classify 1\n",
      "classify 1\n",
      "classify 1\n",
      "classify 1\n",
      "classify 1\n",
      "classify 1\n",
      "classify 1\n",
      "classify 1\n",
      "classify 1\n",
      "classify 1\n",
      "classify 1\n",
      "classify 1\n",
      "classify 1\n",
      "classify 1\n",
      "classify 1\n",
      "classify 1\n",
      "classify 1\n",
      "classify 1\n",
      "classify 1\n",
      "classify 1\n",
      "classify 1\n",
      "classify 1\n",
      "classify 1\n",
      "classify 1\n",
      "classify 1\n",
      "classify 1\n",
      "classify 1\n",
      "classify 1\n",
      "classify 1\n",
      "classify 1\n",
      "classify 1\n",
      "0.935\n",
      "[0, 0, 0, 1, 0, 0, 0, 0, 0, 1, 0, 0, 0, 0, 0, 0, 1, 0, 0, 0, 1, 0, 0, 0, 1, 0, 0, 0, 0, 0, 0, 0, 0, 0, 0, 0, 0, 1, 0, 0, 1, 0, 0, 1, 0, 1, 0, 0, 0, 0, 0, 0, 1, 0, 0, 1, 0, 0, 0, 0, 0, 0, 0, 0, 0, 0, 0, 0, 0, 0, 0, 0, 0, 0, 0, 0, 0, 1, 0, 0, 0, 1, 0, 1, 1, 0, 0, 0, 0, 0, 0, 0, 0, 0, 0, 0, 0, 1, 0, 0, 0, 0, 0, 0, 0, 0, 0, 0, 1, 0, 0, 0, 0, 0, 0, 0, 0, 0, 1, 0, 0, 0, 0, 0, 0, 1, 0, 0, 0, 0, 0, 1, 0, 0, 0, 0, 0, 0, 0, 0, 0, 1, 0, 0, 0, 1, 0, 0, 0, 0, 0, 0, 0, 0, 0, 0, 1, 0, 0, 0, 0, 0, 1, 0, 0, 0, 1, 0, 0, 0, 0, 0, 0, 0, 0, 1, 0, 0, 1, 0, 0, 0, 0, 0, 0, 0, 0, 1, 0, 0, 0, 0, 0, 0, 0, 0, 1, 1, 1, 0, 0, 0, 0, 0, 0, 0, 0, 0, 0, 0, 0, 0, 0, 0, 0, 1, 0, 0, 0, 0, 1, 0, 0, 0, 1, 0, 0, 0, 1, 0, 0, 0, 0, 0, 0, 0, 0, 0, 0, 0, 0, 0, 1, 0, 0, 0, 0, 0, 0, 0, 0, 0, 0, 0, 0, 1, 0, 0, 0, 0, 1, 0, 0, 0, 0, 0, 0, 1, 0, 0, 0, 0, 0, 0, 0, 0, 0, 0, 0, 0, 0, 0, 0, 0, 0, 0, 1, 1, 1, 1, 0, 1, 0, 1, 1, 0, 1, 1, 0, 1, 1, 0, 0, 0, 0, 0, 0, 0, 0, 1, 1, 0, 0, 0, 0, 0, 0, 0, 0, 1, 1, 1, 0, 0, 0, 0, 0, 0, 0, 0, 0, 1, 0, 1, 0, 0, 0, 0, 0, 1, 1, 0, 1, 0, 0, 1, 0, 1, 0, 1, 1, 0, 0, 0, 0, 0, 0, 0, 0, 0, 0, 0, 0, 1, 1, 0, 1, 0, 1, 0, 0, 0, 0, 0, 0, 0, 0, 1, 0, 0, 0, 0, 0, 0, 1, 0, 1, 0, 0, 0, 0, 0, 0, 0, 0, 0, 0, 0, 0, 0, 0, 0, 0, 0, 0, 1, 0, 1, 0, 0, 0, 0, 0, 0, 0, 0, 0, 0, 0, 0, 0, 0, 0, 1, 0, 0, 0, 0, 0, 0, 0, 0, 0, 0, 0, 0, 0, 0, 0, 0, 0, 0, 0, 0, 0, 0, 0, 0, 0, 0, 1, 0, 1, 0, 0, 0, 0, 1, 0, 1, 0, 0, 0, 0, 1, 1, 1, 0, 0, 0, 1, 0, 1, 0, 0, 0, 0, 0, 0, 0, 0, 0, 1, 0, 0, 0, 0, 1, 1, 0, 0, 0, 0, 0, 0, 0, 0, 0, 0, 1, 0, 0, 0, 0, 0, 0, 0, 0, 0, 1, 0, 1, 0, 1, 0, 0, 0, 1, 0, 0, 0, 1, 0, 0, 0, 0, 1, 0, 0, 0, 0, 0, 0, 1, 1, 0, 0, 0, 1, 1, 1, 0, 0, 0, 0, 0, 1, 0, 0, 0, 0, 0, 0, 0, 0, 1, 0, 0, 0, 0, 0, 0, 0, 0, 0, 1, 0, 1, 1, 0, 0, 0, 0, 1, 0, 0, 0, 0, 0, 0, 0, 0, 0, 0, 0, 0, 1, 0, 1, 0, 0, 0, 0, 0, 1, 0, 1, 0, 0, 0]\n"
     ]
    }
   ],
   "source": [
    "predictionsBatch = classifyPoints(wBatch, validX)\n",
    "accuracyBatch = accuracy_score(validY, predictionsBatch)\n",
    "print(accuracyBatch)\n",
    "print(predictionsBatch)"
   ]
  },
  {
   "cell_type": "code",
   "execution_count": 346,
   "metadata": {
    "collapsed": false
   },
   "outputs": [
    {
     "data": {
      "image/png": "[encoded data removed]",
      "text/plain": [
       "<matplotlib.figure.Figure at 0x1085dc0f0>"
      ]
     },
     "metadata": {},
     "output_type": "display_data"
    },
    {
     "name": "stdout",
     "output_type": "stream",
     "text": [
      "0.935\n"
     ]
    }
   ],
   "source": [
    "plotCostFN(costsBatch)\n",
    "print(accuracyBatch)"
   ]
  },
  {
   "cell_type": "markdown",
   "metadata": {},
   "source": [
    "# 4.2 Stochastic Gradient Descent"
   ]
  },
  {
   "cell_type": "code",
   "execution_count": 70,
   "metadata": {
    "collapsed": false
   },
   "outputs": [],
   "source": [
    "# alpha = 10\n",
    "# regConst =  0\n",
    "# numIterations = 10000\n",
    "# 91% no norm\n",
    "\n",
    "# alpha = 0.0000001\n",
    "# regConst = 0.000001\n",
    "# numIterations = 1000000\n",
    "\n",
    "# alpha = 0.0001\n",
    "# regConst = 0.001\n",
    "# numIterations = 100000\n",
    "# #.89 normal\n",
    "\n",
    "# alpha = 0.01\n",
    "# regConst = 0.1\n",
    "# numIterations = 100000\n",
    "# #.929 normal\n",
    "\n",
    "# alpha = 0.01\n",
    "# regConst = 1\n",
    "# numIterations = 100000\n",
    "#.9258 normal\n",
    "\n",
    "# alpha = 10\n",
    "# regConst = 1\n",
    "# numIterations = 100000\n",
    "#.9308\n",
    "\n",
    "# alpha = 25\n",
    "# regConst = 1\n",
    "# numIterations = 100000\n",
    "#.924\n",
    "\n",
    "\n",
    "# alpha = 25\n",
    "# regConst = 1\n",
    "# numIterations = 100000\n",
    "#.929\n",
    "\n",
    "# alpha = .001\n",
    "# regConst = 1\n",
    "# numIterations = 100000\n",
    "#.928\n",
    "\n",
    "# alpha = .0001\n",
    "# regConst = .001\n",
    "# numIterations = 100000\n",
    "#.91\n",
    "\n",
    "# alpha = .00001\n",
    "# regConst = .001\n",
    "# numIterations = 100000\n",
    "#.9125\n",
    "\n",
    "# alpha = .000001\n",
    "# regConst = .001\n",
    "# numIterations = 100000\n",
    "#.9\n",
    "\n",
    "\n",
    "alpha = 10\n",
    "regConst = 1\n",
    "numIterations = 100000\n",
    "#.924"
   ]
  },
  {
   "cell_type": "code",
   "execution_count": 347,
   "metadata": {
    "collapsed": false
   },
   "outputs": [
    {
     "name": "stdout",
     "output_type": "stream",
     "text": [
      "\n"
     ]
    }
   ],
   "source": [
    "testSet = data['X_test']\n",
    "np.random.shuffle(testSet)\n",
    "\n",
    "trainX = data['X']\n",
    "trainY = data['y']\n",
    "sklearn.preprocessing.normalize(trainX.astype(float))\n",
    "sklearn.preprocessing.normalize(testSet.astype(float))\n",
    "\n",
    "combined = np.hstack([trainX, trainY])\n",
    "np.random.shuffle(combined)\n",
    "trainX = combined[:, :-1]\n",
    "trainY = combined[:, -1]\n",
    "trainX = np.hstack([trainX, np.array([1] * 6000).reshape(6000,1)])\n",
    "trainX, validX, trainY, validY = train_test_split(trainX, trainY, test_size=.2, random_state=42)\n",
    "\n",
    "print('')"
   ]
  },
  {
   "cell_type": "code",
   "execution_count": 348,
   "metadata": {
    "collapsed": false
   },
   "outputs": [
    {
     "ename": "TypeError",
     "evalue": "computeCost() takes 4 positional arguments but 5 were given",
     "output_type": "error",
     "traceback": [
      "\u001b[0;31m---------------------------------------------------------------------------\u001b[0m",
      "\u001b[0;31mTypeError\u001b[0m                                 Traceback (most recent call last)",
      "\u001b[0;32m<ipython-input-348-d61678dfa7dc>\u001b[0m in \u001b[0;36m<module>\u001b[0;34m()\u001b[0m\n\u001b[0;32m----> 1\u001b[0;31m \u001b[0mwSGD\u001b[0m\u001b[0;34m,\u001b[0m \u001b[0mcostsSGD\u001b[0m \u001b[0;34m=\u001b[0m \u001b[0mcomputeStochGradientDescent\u001b[0m\u001b[0;34m(\u001b[0m\u001b[0mtrainX\u001b[0m\u001b[0;34m,\u001b[0m \u001b[0mtrainY\u001b[0m\u001b[0;34m,\u001b[0m \u001b[0malpha\u001b[0m\u001b[0;34m,\u001b[0m \u001b[0mregConst\u001b[0m\u001b[0;34m,\u001b[0m \u001b[0mnumIterations\u001b[0m\u001b[0;34m,\u001b[0m \u001b[0;32mFalse\u001b[0m\u001b[0;34m)\u001b[0m\u001b[0;34m\u001b[0m\u001b[0m\n\u001b[0m",
      "\u001b[0;32m<ipython-input-279-fe4272b8156e>\u001b[0m in \u001b[0;36mcomputeStochGradientDescent\u001b[0;34m(X, y, alpha, regConst, numIterations, dec)\u001b[0m\n\u001b[1;32m     16\u001b[0m         \u001b[0mprob\u001b[0m \u001b[0;34m=\u001b[0m \u001b[0msp\u001b[0m\u001b[0;34m.\u001b[0m\u001b[0mspecial\u001b[0m\u001b[0;34m.\u001b[0m\u001b[0mexpit\u001b[0m\u001b[0;34m(\u001b[0m\u001b[0mX\u001b[0m\u001b[0;34m[\u001b[0m\u001b[0mran\u001b[0m\u001b[0;34m]\u001b[0m\u001b[0;34m.\u001b[0m\u001b[0mT\u001b[0m\u001b[0;34m.\u001b[0m\u001b[0mdot\u001b[0m\u001b[0;34m(\u001b[0m\u001b[0mw\u001b[0m\u001b[0;34m)\u001b[0m\u001b[0;34m)\u001b[0m\u001b[0;34m\u001b[0m\u001b[0m\n\u001b[1;32m     17\u001b[0m         \u001b[0mprobCost\u001b[0m \u001b[0;34m=\u001b[0m \u001b[0msp\u001b[0m\u001b[0;34m.\u001b[0m\u001b[0mspecial\u001b[0m\u001b[0;34m.\u001b[0m\u001b[0mexpit\u001b[0m\u001b[0;34m(\u001b[0m\u001b[0mX\u001b[0m\u001b[0;34m.\u001b[0m\u001b[0mdot\u001b[0m\u001b[0;34m(\u001b[0m\u001b[0mw\u001b[0m\u001b[0;34m)\u001b[0m\u001b[0;34m)\u001b[0m\u001b[0;34m\u001b[0m\u001b[0m\n\u001b[0;32m---> 18\u001b[0;31m         \u001b[0mcosts\u001b[0m\u001b[0;34m[\u001b[0m\u001b[0mi\u001b[0m\u001b[0;34m]\u001b[0m \u001b[0;34m=\u001b[0m \u001b[0mcomputeCost\u001b[0m\u001b[0;34m(\u001b[0m\u001b[0mX\u001b[0m\u001b[0;34m,\u001b[0m \u001b[0my\u001b[0m\u001b[0;34m,\u001b[0m \u001b[0mw\u001b[0m\u001b[0;34m,\u001b[0m \u001b[0mprobCost\u001b[0m\u001b[0;34m,\u001b[0m \u001b[0mregConst\u001b[0m\u001b[0;34m)\u001b[0m\u001b[0;34m\u001b[0m\u001b[0m\n\u001b[0m\u001b[1;32m     19\u001b[0m         \u001b[0mgradient\u001b[0m \u001b[0;34m=\u001b[0m \u001b[0mcomputeSGDGradient\u001b[0m\u001b[0;34m(\u001b[0m\u001b[0mX\u001b[0m\u001b[0;34m,\u001b[0m \u001b[0my\u001b[0m\u001b[0;34m,\u001b[0m \u001b[0mw\u001b[0m\u001b[0;34m,\u001b[0m \u001b[0mregConst\u001b[0m\u001b[0;34m,\u001b[0m \u001b[0mran\u001b[0m\u001b[0;34m,\u001b[0m \u001b[0mprob\u001b[0m\u001b[0;34m)\u001b[0m\u001b[0;34m\u001b[0m\u001b[0m\n\u001b[1;32m     20\u001b[0m         \u001b[0mw\u001b[0m \u001b[0;34m=\u001b[0m \u001b[0mvec\u001b[0m\u001b[0;34m(\u001b[0m\u001b[0mw\u001b[0m\u001b[0;34m)\u001b[0m\u001b[0;34m\u001b[0m\u001b[0m\n",
      "\u001b[0;31mTypeError\u001b[0m: computeCost() takes 4 positional arguments but 5 were given"
     ]
    }
   ],
   "source": [
    "wSGD, costsSGD = computeStochGradientDescent(trainX, trainY, alpha, regConst, numIterations, False)"
   ]
  },
  {
   "cell_type": "code",
   "execution_count": 73,
   "metadata": {
    "collapsed": false
   },
   "outputs": [
    {
     "name": "stdout",
     "output_type": "stream",
     "text": [
      "0.751666666667\n"
     ]
    }
   ],
   "source": [
    "predictionsSGD = classifyPoints(wSGD, validX)\n",
    "accuracySGD = accuracy_score(validY, predictionsSGD)\n",
    "print(accuracySGD)\n",
    "# print(predictionsSGD)\n"
   ]
  },
  {
   "cell_type": "code",
   "execution_count": 74,
   "metadata": {
    "collapsed": false
   },
   "outputs": [
    {
     "data": {
      "image/png": "[encoded data removed]",
      "text/plain": [
       "<matplotlib.figure.Figure at 0x1097a5cc0>"
      ]
     },
     "metadata": {},
     "output_type": "display_data"
    }
   ],
   "source": [
    "plotCostFN(costsSGD)"
   ]
  },
  {
   "cell_type": "code",
   "execution_count": null,
   "metadata": {
    "collapsed": false
   },
   "outputs": [],
   "source": []
  },
  {
   "cell_type": "markdown",
   "metadata": {},
   "source": [
    "# 4.3 SGD Decreasing Epsilon"
   ]
  },
  {
   "cell_type": "code",
   "execution_count": 302,
   "metadata": {
    "collapsed": true
   },
   "outputs": [],
   "source": [
    "# alpha = 0.01\n",
    "# regConst = 0\n",
    "# numIterations = 1000000"
   ]
  },
  {
   "cell_type": "code",
   "execution_count": 625,
   "metadata": {
    "collapsed": true
   },
   "outputs": [],
   "source": [
    "# alpha = 0.0000001\n",
    "# regConst = 0.000001\n",
    "# numIterations = 1000000\n",
    "\n",
    "alpha = 10\n",
    "regConst = 1\n",
    "numIterations = 100000\n",
    "#.9308"
   ]
  },
  {
   "cell_type": "code",
   "execution_count": 630,
   "metadata": {
    "collapsed": false
   },
   "outputs": [
    {
     "name": "stderr",
     "output_type": "stream",
     "text": [
      "/Users/maialena/anaconda/envs/189hw/lib/python3.5/site-packages/ipykernel/__main__.py:8: RuntimeWarning: invalid value encountered in log\n"
     ]
    }
   ],
   "source": [
    "wSGDDec, costsSGDDec = computeStochGradientDescent(trainX, trainY, alpha, regConst, numIterations, True)"
   ]
  },
  {
   "cell_type": "code",
   "execution_count": null,
   "metadata": {
    "collapsed": false
   },
   "outputs": [],
   "source": []
  },
  {
   "cell_type": "code",
   "execution_count": 631,
   "metadata": {
    "collapsed": false
   },
   "outputs": [
    {
     "name": "stdout",
     "output_type": "stream",
     "text": [
      "0.924166666667\n"
     ]
    }
   ],
   "source": [
    "predictionsSGDDec = classifyPoints(wSGDDec, validX)\n",
    "accuracySGDDec = accuracy_score(validY, predictionsSGDDec)\n",
    "\n",
    "print(accuracySGDDec)"
   ]
  },
  {
   "cell_type": "code",
   "execution_count": 644,
   "metadata": {
    "collapsed": false
   },
   "outputs": [
    {
     "data": {
      "image/png": "[encoded data removed]",
      "text/plain": [
       "<matplotlib.figure.Figure at 0x10b828358>"
      ]
     },
     "metadata": {},
     "output_type": "display_data"
    }
   ],
   "source": [
    "plotCostFN(costsSGDDec)"
   ]
  },
  {
   "cell_type": "markdown",
   "metadata": {},
   "source": [
    "# 4.4 Kaggle Submission"
   ]
  },
  {
   "cell_type": "code",
   "execution_count": 641,
   "metadata": {
    "collapsed": false
   },
   "outputs": [
    {
     "name": "stderr",
     "output_type": "stream",
     "text": [
      "/Users/maialena/anaconda/envs/189hw/lib/python3.5/site-packages/ipykernel/__main__.py:8: RuntimeWarning: invalid value encountered in log\n"
     ]
    }
   ],
   "source": [
    "testSet = data['X_test']\n",
    "trainX = data['X']\n",
    "trainY = data['y']\n",
    "combined = np.hstack([trainX, trainY])\n",
    "np.random.shuffle(combined)\n",
    "trainX = combined[:, :-1]\n",
    "trainY = combined[:, -1]\n",
    "trainX = np.hstack([trainX, np.array([1] * trainX.shape[0]).reshape(trainX.shape[0],1)])\n",
    "testSet = np.hstack([testSet, np.array([1] * testSet.shape[0]).reshape(testSet.shape[0],1)])\n",
    "\n",
    "sklearn.preprocessing.normalize(trainX.astype(float))\n",
    "sklearn.preprocessing.normalize(testSet.astype(float))\n",
    "\n",
    "\n",
    "# not normalizing: alpha = 10 * -7\n",
    "# regConst = 0.01\n",
    "# numIterations = 10000\n",
    "\n",
    "# alpha = 0.001\n",
    "# regConst = 0.01\n",
    "# numIterations = 100000\n",
    "\n",
    "alpha = 0.00001\n",
    "regConst = 0.001\n",
    "numIterations = 100000\n",
    "\n",
    "wKaggle, costsKaggle = computeBatchGradientDescent(trainX, trainY, alpha, regConst, numIterations, True)\n",
    "\n",
    "predictionsKaggle = classifyPoints(wKaggle, testSet)\n",
    "\n",
    "generateCsv(predictionsKaggle, 'thurs')\n"
   ]
  },
  {
   "cell_type": "code",
   "execution_count": 667,
   "metadata": {
    "collapsed": false
   },
   "outputs": [
    {
     "name": "stdout",
     "output_type": "stream",
     "text": [
      "1200\n"
     ]
    }
   ],
   "source": [
    "print(len(predictionsBatch))\n",
    "# zeros = 0\n",
    "# ones = 0\n",
    "# for i in predictionsBatch:\n",
    "#     if i==0:\n",
    "#         zeros +=1\n",
    "#     ones +=1\n",
    "# print('num 0' +str(zeros))\n",
    "# print(ones)\n",
    "        "
   ]
  },
  {
   "cell_type": "markdown",
   "metadata": {},
   "source": [
    "Kaggle Display Name: maialena"
   ]
  },
  {
   "cell_type": "markdown",
   "metadata": {},
   "source": [
    "Kaggle Score:"
   ]
  },
  {
   "cell_type": "code",
   "execution_count": 637,
   "metadata": {
    "collapsed": false
   },
   "outputs": [
    {
     "name": "stdout",
     "output_type": "stream",
     "text": [
      "497\n"
     ]
    }
   ],
   "source": [
    "print(len(predictionsBatch))"
   ]
  },
  {
   "cell_type": "code",
   "execution_count": null,
   "metadata": {
    "collapsed": true
   },
   "outputs": [],
   "source": []
  }
 ],
 "metadata": {
  "kernelspec": {
   "display_name": "Python [189hw]",
   "language": "python",
   "name": "Python [189hw]"
  },
  "language_info": {
   "codemirror_mode": {
    "name": "ipython",
    "version": 3
   },
   "file_extension": ".py",
   "mimetype": "text/x-python",
   "name": "python",
   "nbconvert_exporter": "python",
   "pygments_lexer": "ipython3",
   "version": "3.5.2"
  }
 },
 "nbformat": 4,
 "nbformat_minor": 0
}
