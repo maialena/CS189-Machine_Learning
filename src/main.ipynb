{
 "cells": [
  {
   "cell_type": "code",
   "execution_count": 18,
   "metadata": {
    "collapsed": true
   },
   "outputs": [],
   "source": [
    "import matplotlib.pyplot as plt\n",
    "%matplotlib inline\n",
    "\n",
    "import numpy as np\n",
    "import scipy as sp\n",
    "from scipy import io\n",
    "from sklearn.svm import SVC"
   ]
  },
  {
   "cell_type": "code",
   "execution_count": 19,
   "metadata": {},
   "outputs": [],
   "source": [
    "#plots accuracy, returns None\n",
    "def plot_accuracy(x, y, name):\n",
    "    plt.plot(x, y, 'bo')\n",
    "    plt.xlabel('num_samples')\n",
    "    plt.ylabel('accuracy')\n",
    "    plt.title(name)\n",
    "    plt.show()"
   ]
  },
  {
   "cell_type": "code",
   "execution_count": 20,
   "metadata": {},
   "outputs": [],
   "source": [
    "# Purpose: Trains SVM\n",
    "# Params:\n",
    "# Return: list of valid_errors from each experiment\n",
    "# def train_svm(samples, clf, train_set, train_y, valid_set, valid_y, name):\n",
    "#     train_error = list()\n",
    "#     valid_error = list()\n",
    "#     for sample_size in samples:\n",
    "#         # TODO: check that labels is a one dimensional array before calling fit\n",
    "#         print(\"sample_size: \" + str(sample_size))\n",
    "#         clf.fit(train_set[:sample_size], train_y[:sample_size])\n",
    "#         train_error.append(clf.score(train_set, train_y))\n",
    "#         print(\"train_error: \" + str(train_error))\n",
    "#         valid_error.append(clf.score(valid_set, valid_y))\n",
    "#         print(\"valid_error: \" + str(valid_error))\n",
    "#     plot_accuracy(samples, train_error, name + ' Training_Accuracy')\n",
    "#     plot_accuracy(samples, valid_error, name + ' Validation_Accuracy')\n",
    "#     return valid_error"
   ]
  },
  {
   "cell_type": "code",
   "execution_count": 21,
   "metadata": {},
   "outputs": [],
   "source": [
    "# Purpose: Trains SVM\n",
    "# Params:\n",
    "# Return: list of valid_errors from each experiment\n",
    "def train_svm(samples, clf, train_set, train_y, valid_set, valid_y, name):\n",
    "    valid_error, train_error = train_svm_no_plot(samples, clf, train_set, train_y, valid_set, valid_y, name)\n",
    "    plot_accuracy(samples, train_error, name + ' Training_Accuracy')\n",
    "    plot_accuracy(samples, valid_error, name + ' Validation_Accuracy')\n",
    "    return valid_error, train_error"
   ]
  },
  {
   "cell_type": "code",
   "execution_count": 22,
   "metadata": {},
   "outputs": [],
   "source": [
    "# Purpose: Trains SVM\n",
    "# Params:\n",
    "# Return: list of valid_errors from each experiment\n",
    "#REMEMBER TO UPDATE THE RETURN VALID_ERROR, TRAIN_ERROR, need to do train_svm[0] to get valid_error\n",
    "#poor naming for what's returned, says error but should be score\n",
    "def train_svm_no_plot(samples, clf, train_set, train_y, valid_set, valid_y, name):\n",
    "    train_error = list()\n",
    "    valid_error = list()\n",
    "    for sample_size in samples:\n",
    "        # TODO: check that labels is a one dimensional array before calling fit\n",
    "        print(\"Sample_size: \" + str(sample_size))\n",
    "        clf.fit(train_set[:sample_size], train_y[:sample_size])\n",
    "        train_score = clf.score(train_set, train_y)\n",
    "        train_error.append(train_score)\n",
    "        print(\"train_score: \" + str(train_score))\n",
    "        valid_score = clf.score(valid_set, valid_y)\n",
    "        valid_error.append(valid_score)\n",
    "        print(\"valid_score: \" + str(valid_score))\n",
    "    return valid_error, train_error"
   ]
  },
  {
   "cell_type": "code",
   "execution_count": 7,
   "metadata": {
    "collapsed": false
   },
   "outputs": [],
   "source": [
    "# returns dictionary with variable names as keys and matrix as values\n",
    "mnist_dict = io.loadmat('mnist/train.mat')"
   ]
  },
  {
   "cell_type": "code",
   "execution_count": 24,
   "metadata": {},
   "outputs": [],
   "source": [
    "#Splits data set into training and validation set of given size\n",
    "#SHould this return a 2-d numpy array for labels? or keep it at one? clf requires 1-d, but concatenate requires 2.\n",
    "def split_train_and_valid_sets(data, size):\n",
    "    np.random.shuffle(data)\n",
    "    shape = data.shape[0] \n",
    "    valid_set = data[:size, :-1] \n",
    "    valid_y = data[:size, -1] \n",
    "    train_set = data[size:, :-1] \n",
    "    train_y = data[size:, -1]\n",
    "    return shape, valid_set, valid_y, train_set, train_y"
   ]
  },
  {
   "cell_type": "code",
   "execution_count": 9,
   "metadata": {},
   "outputs": [],
   "source": [
    "# ***********************PROBLEM 1 --> VALIDATION SETS***********************\n",
    "# -----------MNIST SET--------\n",
    "# # get the matrix\n",
    "# mnist_trainX = mnist_dict['trainX']\n",
    "# np.random.shuffle(mnist_trainX)\n",
    "# num_points_mnist = mnist_trainX.shape[0] \n",
    "# mnist_valid_set = mnist_trainX[:10000, :-1] \n",
    "# mnist_valid_y = mnist_trainX[:10000, -1] \n",
    "# mnist_train_set = mnist_trainX[10000:, :-1] \n",
    "# mnist_train_y = mnist_trainX[10000:, -1]"
   ]
  },
  {
   "cell_type": "code",
   "execution_count": 10,
   "metadata": {},
   "outputs": [],
   "source": [
    "# -----------MNIST SET--------\n",
    "mnist_trainX = mnist_dict['trainX']\n",
    "shape, mnist_valid_set, mnist_valid_y, mnist_train_set, mnist_train_y = split_train_and_valid_sets(mnist_trainX, 10000)"
   ]
  },
  {
   "cell_type": "code",
   "execution_count": 173,
   "metadata": {},
   "outputs": [],
   "source": [
    "# ---------------CIFAR-10 SET----------------\n",
    "# cifar_dict = sp.io.loadmat('cifar/train.mat')\n",
    "# cifar_trainX = cifar_dict['trainX']\n",
    "# np.random.shuffle(cifar_trainX)\n",
    "# cifar_valid_set = cifar_trainX[:5000, :-1] \n",
    "# cifar_valid_y = cifar_trainX[:5000, -1] \n",
    "# cifar_train_set = cifar_trainX[5000:, :-1] \n",
    "# cifar_train_y = cifar_trainX[5000:, -1]"
   ]
  },
  {
   "cell_type": "code",
   "execution_count": 15,
   "metadata": {},
   "outputs": [],
   "source": [
    "# ---------------CIFAR-10 SET----------------\n",
    "cifar_dict = sp.io.loadmat('cifar/train.mat')\n",
    "cifar_trainX = cifar_dict['trainX']\n",
    "cifar_shape, cifar_valid_set, cifar_valid_y, cifar_train_set, cifar_train_y = split_train_and_valid_sets(cifar_trainX, 5000)"
   ]
  },
  {
   "cell_type": "code",
   "execution_count": 8,
   "metadata": {},
   "outputs": [],
   "source": [
    "# --------------SPAM DataSet----------------\n",
    "# spam_dict = sp.io.loadmat('spam/spam_data.mat')\n",
    "# spam_trainX = spam_dict['training_data']\n",
    "# np.random.shuffle(spam_trainX)\n",
    "# spam_valid_set = spam_trainX[:1034, :-1] \n",
    "# spam_valid_y = spam_trainX[:1034, -1] \n",
    "# spam_train_set = spam_trainX[1034:, :-1] \n",
    "# spam_train_y = spam_trainX[1034:, -1]"
   ]
  },
  {
   "cell_type": "code",
   "execution_count": 26,
   "metadata": {},
   "outputs": [
    {
     "name": "stdout",
     "output_type": "stream",
     "text": [
      "(5172, 32) (5172, 1)\n(4138,)\n"
     ]
    }
   ],
   "source": [
    "# --------------SPAM DataSet----------------\n",
    "spam_dict = sp.io.loadmat('spam/spam_data.mat')\n",
    "data_set= spam_dict['training_data']\n",
    "data_labels = spam_dict['training_labels']\n",
    "print(data_set.shape, data_labels.T.shape)\n",
    "merged_data_and_labels = np.hstack((data_set, data_labels.T))\n",
    "np.random.shuffle(merged_data_and_labels)\n",
    "spam_shape, spam_valid_set, spam_valid_y, spam_train_set, spam_train_y = split_train_and_valid_sets(merged_data_and_labels, 1034)\n",
    "print(spam_train_y.shape)"
   ]
  },
  {
   "cell_type": "code",
   "execution_count": 14,
   "metadata": {},
   "outputs": [
    {
     "name": "stdout",
     "output_type": "stream",
     "text": [
      "Training MNIST\nSample_size: 100\n"
     ]
    },
    {
     "name": "stdout",
     "output_type": "stream",
     "text": [
      "train_score: 0.75502\n"
     ]
    },
    {
     "name": "stdout",
     "output_type": "stream",
     "text": [
      "valid_score: 0.7511\nSample_size: 200\n"
     ]
    },
    {
     "name": "stdout",
     "output_type": "stream",
     "text": [
      "train_score: 0.81592\n"
     ]
    },
    {
     "name": "stdout",
     "output_type": "stream",
     "text": [
      "valid_score: 0.8084\nSample_size: 500\n"
     ]
    },
    {
     "name": "stdout",
     "output_type": "stream",
     "text": [
      "train_score: 0.8656\n"
     ]
    },
    {
     "name": "stdout",
     "output_type": "stream",
     "text": [
      "valid_score: 0.8641\nSample_size: 1000\n"
     ]
    },
    {
     "name": "stdout",
     "output_type": "stream",
     "text": [
      "train_score: 0.88454\n"
     ]
    },
    {
     "name": "stdout",
     "output_type": "stream",
     "text": [
      "valid_score: 0.8839\nSample_size: 2000\n"
     ]
    },
    {
     "name": "stdout",
     "output_type": "stream",
     "text": [
      "train_score: 0.89756\n"
     ]
    },
    {
     "name": "stdout",
     "output_type": "stream",
     "text": [
      "valid_score: 0.8962\nSample_size: 5000\n"
     ]
    },
    {
     "name": "stdout",
     "output_type": "stream",
     "text": [
      "train_score: 0.91678\n"
     ]
    },
    {
     "name": "stdout",
     "output_type": "stream",
     "text": [
      "valid_score: 0.9119\nSample_size: 10000\n"
     ]
    },
    {
     "name": "stdout",
     "output_type": "stream",
     "text": [
      "train_score: 0.9265\n"
     ]
    },
    {
     "name": "stdout",
     "output_type": "stream",
     "text": [
      "valid_score: 0.9147\n"
     ]
    },
    {
     "data": {
      "image/png": "[encoded data removed]",
      "text/plain": [
       "<matplotlib.figure.Figure at 0x108dfa1d0>"
      ]
     },
     "metadata": {},
     "output_type": "display_data"
    },
    {
     "data": {
      "image/png": "[encoded data removed]",
      "text/plain": [
       "<matplotlib.figure.Figure at 0x108e11e80>"
      ]
     },
     "metadata": {},
     "output_type": "display_data"
    }
   ],
   "source": [
    "# *********************PROBLEM 2 --> TRAIN DATA ***********************\n",
    "\n",
    "# ----------TRAIN MNIST DATA------------#\n",
    "print(\"Training MNIST\")\n",
    "clf_mnist = SVC(kernel=\"linear\")\n",
    "experiments = [100, 200, 500, 1000, 2000, 5000, 10000]\n",
    "# expect between 70-90% accuracy\n",
    "valid_error, train_error = train_svm(experiments, clf_mnist, mnist_train_set, mnist_train_y, mnist_valid_set, mnist_valid_y,\n",
    "          'MNIST')\n",
    "# print('Valid_error is: ' + str(valid_error))\n",
    "# print('Train_error is: ' + str(train_error))"
   ]
  },
  {
   "cell_type": "code",
   "execution_count": 16,
   "metadata": {},
   "outputs": [
    {
     "name": "stdout",
     "output_type": "stream",
     "text": [
      "Training CIFAR\nSample_size: 100\n"
     ]
    },
    {
     "name": "stdout",
     "output_type": "stream",
     "text": [
      "train_score: 0.207666666667\n"
     ]
    },
    {
     "name": "stdout",
     "output_type": "stream",
     "text": [
      "valid_score: 0.2076\nSample_size: 200\n"
     ]
    },
    {
     "name": "stdout",
     "output_type": "stream",
     "text": [
      "train_score: 0.250488888889\n"
     ]
    },
    {
     "name": "stdout",
     "output_type": "stream",
     "text": [
      "valid_score: 0.2488\nSample_size: 500\n"
     ]
    },
    {
     "name": "stdout",
     "output_type": "stream",
     "text": [
      "train_score: 0.291533333333\n"
     ]
    },
    {
     "name": "stdout",
     "output_type": "stream",
     "text": [
      "valid_score: 0.2804\nSample_size: 1000\n"
     ]
    },
    {
     "name": "stdout",
     "output_type": "stream",
     "text": [
      "train_score: 0.3008\n"
     ]
    },
    {
     "name": "stdout",
     "output_type": "stream",
     "text": [
      "valid_score: 0.2766\nSample_size: 2000\n"
     ]
    },
    {
     "name": "stdout",
     "output_type": "stream",
     "text": [
      "train_score: 0.326355555556\n"
     ]
    },
    {
     "name": "stdout",
     "output_type": "stream",
     "text": [
      "valid_score: 0.28\nSample_size: 5000\n"
     ]
    },
    {
     "name": "stdout",
     "output_type": "stream",
     "text": [
      "train_score: 0.375422222222\n"
     ]
    },
    {
     "name": "stdout",
     "output_type": "stream",
     "text": [
      "valid_score: 0.2894\n"
     ]
    },
    {
     "data": {
      "image/png": "[encoded data removed]",
      "text/plain": [
       "<matplotlib.figure.Figure at 0x10d033588>"
      ]
     },
     "metadata": {},
     "output_type": "display_data"
    },
    {
     "data": {
      "image/png": "[encoded data removed]",
      "text/plain": [
       "<matplotlib.figure.Figure at 0x10920f550>"
      ]
     },
     "metadata": {},
     "output_type": "display_data"
    },
    {
     "name": "stdout",
     "output_type": "stream",
     "text": [
      "Valid_error is [0.20760000000000001, 0.24879999999999999, 0.28039999999999998, 0.27660000000000001, 0.28000000000000003, 0.28939999999999999]\nTrain_error is: [0.20766666666666667, 0.25048888888888887, 0.29153333333333331, 0.30080000000000001, 0.32635555555555557, 0.37542222222222221]\n"
     ]
    }
   ],
   "source": [
    "# -----------TRAIN CIFAR DATA-----------#\n",
    "print(\"Training CIFAR\")\n",
    "clf_cifar = SVC(kernel='linear')\n",
    "experiments = [100, 200, 500, 1000, 2000, 5000]\n",
    "# expect between 25-35% accuracy\n",
    "valid_error, train_error = train_svm(experiments, clf_cifar, cifar_train_set, cifar_train_y, cifar_valid_set, cifar_valid_y, 'CIFAR')\n",
    "print('Valid_error is ' + str(valid_error))\n",
    "print('Train_error is: ' + str(train_error))"
   ]
  },
  {
   "cell_type": "code",
   "execution_count": 28,
   "metadata": {},
   "outputs": [
    {
     "name": "stdout",
     "output_type": "stream",
     "text": [
      "Training SPAM\nSample_size: 100\ntrain_score: 0.779120347994\nvalid_score: 0.778529980658\nSample_size: 200\ntrain_score: 0.797486708555\nvalid_score: 0.791102514507\nSample_size: 500\ntrain_score: 0.798211696472\nvalid_score: 0.800773694391\nSample_size: 1000\n"
     ]
    },
    {
     "name": "stdout",
     "output_type": "stream",
     "text": [
      "train_score: 0.802803286612\nvalid_score: 0.810444874275\nSample_size: 2000\n"
     ]
    },
    {
     "name": "stdout",
     "output_type": "stream",
     "text": [
      "train_score: 0.806428226196\nvalid_score: 0.805609284333\nSample_size: 4137\n"
     ]
    },
    {
     "name": "stdout",
     "output_type": "stream",
     "text": [
      "train_score: 0.803528274529\nvalid_score: 0.808510638298\n"
     ]
    },
    {
     "data": {
      "image/png": "[encoded data removed]",
      "text/plain": [
       "<matplotlib.figure.Figure at 0x10bc9df98>"
      ]
     },
     "metadata": {},
     "output_type": "display_data"
    },
    {
     "data": {
      "image/png": "[encoded data removed]",
      "text/plain": [
       "<matplotlib.figure.Figure at 0x10bc85940>"
      ]
     },
     "metadata": {},
     "output_type": "display_data"
    },
    {
     "name": "stdout",
     "output_type": "stream",
     "text": [
      "Valid_error is: [0.77852998065764023, 0.79110251450676983, 0.80077369439071566, 0.8104448742746615, 0.80560928433268864, 0.80851063829787229]\nTrain_error is: [0.77912034799420005, 0.79748670855485737, 0.79821169647172552, 0.80280328661188982, 0.80642822619623011, 0.80352827452875786]\n"
     ]
    }
   ],
   "source": [
    "# ----------TRAIN SPAM DATA -------------\n",
    "print(\"Training SPAM\")\n",
    "clf_spam = SVC(kernel=\"linear\")\n",
    "experiments = [100, 200, 500, 1000, 2000, 4137]\n",
    "# expect between 70-90% accuracy\n",
    "valid_error, train_error = train_svm(experiments, clf_spam, spam_train_set, spam_train_y, spam_valid_set, spam_valid_y, 'SPAM')\n",
    "print('Valid_error is: ' + str(valid_error))\n",
    "print('Train_error is: ' + str(train_error))"
   ]
  },
  {
   "cell_type": "code",
   "execution_count": 38,
   "metadata": {},
   "outputs": [
    {
     "name": "stdout",
     "output_type": "stream",
     "text": [
      "Sample_size: 10000\n"
     ]
    }
   ],
   "source": [
    "# ************************** PROBLEM 3: BEST C Value ********************************\n",
    "from sklearn.svm import SVC\n",
    "C_range = np.logspace(-5, 1, num=4)\n",
    "experiments = [10000]\n",
    "for C in C_range:\n",
    "    clf_mnist = SVC(C=C)\n",
    "    train_svm(experiments, clf_mnist, mnist_train_set, mnist_train_y, mnist_valid_set, mnist_valid_y, 'MNIST)')"
   ]
  },
  {
   "cell_type": "code",
   "execution_count": 36,
   "metadata": {},
   "outputs": [],
   "source": [
    "# ************************** PROBLEM 4: K-FOLD ********************************\n",
    "def k_fold_split(data, clf, k, name):\n",
    "    np.random.shuffle(data)\n",
    "    valid_errors = list()\n",
    "    copy_data = data[:, :]\n",
    "    for i in range(k):\n",
    "        if is_divisible_by_k(copy_data, k):\n",
    "            k_arrays = np.split(copy_data, k)\n",
    "        else:\n",
    "            divisible_data, extra_data = preprocess_data(copy_data, k)\n",
    "            k_arrays = np.split(divisible_data, k)\n",
    "            print(\"last split shape: \" + str(k_arrays[-1].shape))\n",
    "            print(\"extra_data shape: \" + str(extra_data.shape))\n",
    "            np.vstack((k_arrays[-1], extra_data)) \n",
    "        valid_set = k_arrays.pop(i)\n",
    "        print(\"valid_set shape is: \" + str(valid_set.shape))\n",
    "        valid_data = valid_set[:, :-1]\n",
    "        print(\"valid_data shape is: \" + str(valid_data.shape))\n",
    "        valid_y = valid_set[:, -1]\n",
    "        print(\"valid_y shape is: \" + str(valid_y.shape))\n",
    "        print('num lists to concatenate ' + str(len(k_arrays)))\n",
    "        train_set = np.vstack(k_arrays)\n",
    "        print(\"train_set shape is: \" + str(train_set.shape))\n",
    "        train_data = train_set[:, :-1]\n",
    "        print(\"train_data shape is: \" + str(train_data.shape))\n",
    "        train_y = train_set[:, -1]\n",
    "        print(\"train_y shape is: \" + str(train_y.shape))\n",
    "        valid_errors.append(train_svm_no_plot([train_data.shape[0]], clf, train_data, train_y, valid_data, valid_y, name)[0])\n",
    "    valid_score = np.sum(valid_errors)/k\n",
    "    print(\"Valid Score is:\")\n",
    "    print(valid_score)\n",
    "    return valid_score"
   ]
  },
  {
   "cell_type": "code",
   "execution_count": 33,
   "metadata": {},
   "outputs": [],
   "source": [
    "def preprocess_data(data, k):\n",
    "    print('og data shape: ' + str(data.shape))\n",
    "    remainder = data.shape[0] % k\n",
    "    extra_samples = data[-remainder:, :]\n",
    "    print(\"extra_samples \" + str(extra_samples.shape))\n",
    "    # two_dim_extras = np.array([extra_samples])\n",
    "    # transposed_extras = two_dim_extras.T\n",
    "    # print('np array extras: ' + str(two_dim_extras.shape))\n",
    "    divisible_samples = data[:-remainder, :]\n",
    "    print('divisible_samples: ' + str(divisible_samples.shape))\n",
    "    return divisible_samples, extra_samples"
   ]
  },
  {
   "cell_type": "code",
   "execution_count": 34,
   "metadata": {},
   "outputs": [],
   "source": [
    "def is_divisible_by_k(data, k):\n",
    "    if data.shape[0] % k == 0:\n",
    "        return True\n",
    "    return False"
   ]
  },
  {
   "cell_type": "code",
   "execution_count": 37,
   "metadata": {
    "collapsed": false
   },
   "outputs": [
    {
     "name": "stdout",
     "output_type": "stream",
     "text": [
      "Running KFOLD\ntraining set data: (4138, 32)\ntransposed_labels (4138, 1)\nspam_concatenated: (4138, 33)\nog data shape: (4138, 33)\nextra_samples (3, 33)\ndivisible_samples: (4135, 33)\nlast split shape: (827, 33)\nextra_data shape: (3, 33)\nvalid_set shape is: (827, 33)\nvalid_data shape is: (827, 32)\nvalid_y shape is: (827,)\nnum lists to concatenate 4\ntrain_set shape is: (3308, 33)\ntrain_data shape is: (3308, 32)\ntrain_y shape is: (3308,)\nSample_size: 3308\n"
     ]
    },
    {
     "name": "stdout",
     "output_type": "stream",
     "text": [
      "train_score: 0.826481257557\nvalid_score: 0.837968561064\nog data shape: (4138, 33)\nextra_samples (3, 33)\ndivisible_samples: (4135, 33)\nlast split shape: (827, 33)\nextra_data shape: (3, 33)\nvalid_set shape is: (827, 33)\nvalid_data shape is: (827, 32)\nvalid_y shape is: (827,)\nnum lists to concatenate 4\ntrain_set shape is: (3308, 33)\ntrain_data shape is: (3308, 32)\ntrain_y shape is: (3308,)\nSample_size: 3308\n"
     ]
    },
    {
     "name": "stdout",
     "output_type": "stream",
     "text": [
      "train_score: 0.831620314389\nvalid_score: 0.828295042322\nog data shape: (4138, 33)\nextra_samples (3, 33)\ndivisible_samples: (4135, 33)\nlast split shape: (827, 33)\nextra_data shape: (3, 33)\nvalid_set shape is: (827, 33)\nvalid_data shape is: (827, 32)\nvalid_y shape is: (827,)\nnum lists to concatenate 4\ntrain_set shape is: (3308, 33)\ntrain_data shape is: (3308, 32)\ntrain_y shape is: (3308,)\nSample_size: 3308\n"
     ]
    },
    {
     "name": "stdout",
     "output_type": "stream",
     "text": [
      "train_score: 0.827992744861\nvalid_score: 0.819830713422\nog data shape: (4138, 33)\nextra_samples (3, 33)\ndivisible_samples: (4135, 33)\nlast split shape: (827, 33)\nextra_data shape: (3, 33)\nvalid_set shape is: (827, 33)\nvalid_data shape is: (827, 32)\nvalid_y shape is: (827,)\nnum lists to concatenate 4\ntrain_set shape is: (3308, 33)\ntrain_data shape is: (3308, 32)\ntrain_y shape is: (3308,)\nSample_size: 3308\n"
     ]
    },
    {
     "name": "stdout",
     "output_type": "stream",
     "text": [
      "train_score: 0.834643288996\nvalid_score: 0.800483675937\nog data shape: (4138, 33)\nextra_samples (3, 33)\ndivisible_samples: (4135, 33)\nlast split shape: (827, 33)\nextra_data shape: (3, 33)\nvalid_set shape is: (827, 33)\nvalid_data shape is: (827, 32)\nvalid_y shape is: (827,)\nnum lists to concatenate 4\ntrain_set shape is: (3308, 33)\ntrain_data shape is: (3308, 32)\ntrain_y shape is: (3308,)\nSample_size: 3308\n"
     ]
    },
    {
     "name": "stdout",
     "output_type": "stream",
     "text": [
      "train_score: 0.834945586457\nvalid_score: 0.799274486094\nValid Score is:\n0.817170495768\n"
     ]
    },
    {
     "data": {
      "text/plain": [
       "0.8171704957678354"
      ]
     },
     "execution_count": 37,
     "metadata": {},
     "output_type": "execute_result"
    }
   ],
   "source": [
    "print(\"Running KFOLD\")\n",
    "clf_spam = SVC()\n",
    "# both arrays need to be 2-dimensional\n",
    "two_dim_label = np.array([spam_train_y])\n",
    "transposed_labels = two_dim_label.T\n",
    "print('training set data: ' + str(spam_train_set.shape))\n",
    "print('transposed_labels ' + str(transposed_labels.shape))\n",
    "spam_training = np.hstack((spam_train_set, transposed_labels))\n",
    "print('spam_concatenated: ' + str(spam_training.shape))\n",
    "k_fold_split(spam_training, clf_spam, 5, 'SPAM')"
   ]
  },
  {
   "cell_type": "code",
   "execution_count": null,
   "metadata": {},
   "outputs": [],
   "source": [
    ""
   ]
  },
  {
   "cell_type": "markdown",
   "metadata": {},
   "source": [
    "\n"
   ]
  },
  {
   "cell_type": "code",
   "execution_count": null,
   "metadata": {},
   "outputs": [],
   "source": [
    "# ****************** PROBLEM 5: KAGGLE COMPETITION ***************\n",
    "# from sklearn import svm\n",
    "# #create four classifers\n",
    "# #in the constructor for the svc you need to make sure it's a binary classifier\n",
    "# clf1 = svm.SVC()\n",
    "# clf2 = svm.SVC()\n",
    "# clf3 = svm.SVC()\n",
    "# clf4 = svm.SVC()\n",
    "# \n",
    "# #add extra models to increase the hamming distance, get more room for errors\n",
    "# \n",
    "# #fit the data X to the labels yi where yi = {0,1}\n",
    "# #binary classifer\n",
    "# #this comes after you build y1, y2, y3, y4\n",
    "# clf1.fit(X, y1)\n",
    "# clf2.fit(X, y2)\n",
    "# clf3.fit(X, y3)\n",
    "# clf4.fit(X, y4)\n",
    "#"
   ]
  }
 ],
 "metadata": {
  "kernelspec": {
   "display_name": "Python 2",
   "language": "python",
   "name": "python2"
  },
  "language_info": {
   "codemirror_mode": {
    "name": "ipython",
    "version": 2.0
   },
   "file_extension": ".py",
   "mimetype": "text/x-python",
   "name": "python",
   "nbconvert_exporter": "python",
   "pygments_lexer": "ipython2",
   "version": "2.7.6"
  }
 },
 "nbformat": 4,
 "nbformat_minor": 0
}