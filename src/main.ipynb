{
 "cells": [
  {
   "cell_type": "code",
   "execution_count": 11,
   "metadata": {
    "collapsed": true
   },
   "outputs": [],
   "source": [
    "import matplotlib.pyplot as plt\n",
    "%matplotlib inline\n",
    "\n",
    "import numpy as np\n",
    "import scipy as sp\n",
    "from scipy import io\n",
    "from sklearn.svm import SVC\n",
    "from sklearn.model_selection import train_test_split\n",
    "import csv"
   ]
  },
  {
   "cell_type": "code",
   "execution_count": 2,
   "metadata": {
    "collapsed": true
   },
   "outputs": [],
   "source": [
    "#plots accuracy, returns None\n",
    "def plot_accuracy(x, y, name):\n",
    "    plt.plot(x, y)\n",
    "    plt.xlabel('num_samples')\n",
    "    plt.ylabel('accuracy')\n",
    "    plt.title(name)\n",
    "    plt.show()"
   ]
  },
  {
   "cell_type": "code",
   "execution_count": 3,
   "metadata": {
    "collapsed": true
   },
   "outputs": [],
   "source": [
    "def train_svm(samples, clf, train_set, train_y, valid_set, valid_y, name):\n",
    "    valid_error, train_error = train_svm_no_plot(samples, clf, train_set, train_y, valid_set, valid_y, name)\n",
    "    plot_accuracy(samples, train_error, name + ' Training_Accuracy')\n",
    "    plot_accuracy(samples, valid_error, name + ' Validation_Accuracy')\n",
    "    return valid_error, train_error"
   ]
  },
  {
   "cell_type": "code",
   "execution_count": 4,
   "metadata": {
    "collapsed": true
   },
   "outputs": [],
   "source": [
    "# Purpose: Trains SVM\n",
    "# Params:\n",
    "# Return: list of valid_errors from each experiment\n",
    "#REMEMBER TO UPDATE THE RETURN VALID_ERROR, TRAIN_ERROR, need to do train_svm[0] to get valid_error\n",
    "#poor naming for what's returned, says error but should be score\n",
    "def train_svm_no_plot(samples, clf, train_set, train_y, valid_set, valid_y, name):\n",
    "    train_error = list()\n",
    "    valid_error = list()\n",
    "    for sample_size in samples:\n",
    "        print(\"Sample_size: \" + str(sample_size))\n",
    "        clf.fit(train_set[:sample_size], train_y[:sample_size])\n",
    "        train_score = clf.score(train_set, train_y)\n",
    "        train_error.append(train_score)\n",
    "        valid_score = clf.score(valid_set, valid_y)\n",
    "        valid_error.append(valid_score)\n",
    "        print(\"valid_score:  train_score \")\n",
    "        print(valid_score: train_score)\n",
    "    return valid_error, train_error"
   ]
  },
  {
   "cell_type": "code",
   "execution_count": 5,
   "metadata": {
    "collapsed": true
   },
   "outputs": [],
   "source": [
    "#Splits data set into training and validation set of given size\n",
    "#SHould this return a 2-d numpy array for labels? or keep it at one? clf requires 1-d, but concatenate requires 2.\n",
    "def split_train_and_valid_sets(data, size):\n",
    "    np.random.shuffle(data)\n",
    "    shape = data.shape[0] \n",
    "    valid_set = data[:size, :-1] \n",
    "    valid_y = data[:size, -1] \n",
    "    train_set = data[size:, :-1] \n",
    "    train_y = data[size:, -1]\n",
    "    return shape, valid_set, valid_y, train_set, train_y"
   ]
  },
  {
   "cell_type": "code",
   "execution_count": 5,
   "metadata": {
    "collapsed": false
   },
   "outputs": [],
   "source": [
    "# -----------MNIST SET-------- (sklearn fn)\n",
    "mnist_dict = io.loadmat('../mnist/train.mat')\n",
    "mnist_trainX = mnist_dict['trainX']"
   ]
  },
  {
   "cell_type": "code",
   "execution_count": 6,
   "metadata": {
    "collapsed": false
   },
   "outputs": [
    {
     "name": "stdout",
     "output_type": "stream",
     "text": [
      "mnist_train_set (50000, 784)\n",
      "mnist_valid_set (10000, 784)\n",
      "mnist_train_y (50000,)\n",
      "mnist_valid_y (10000,)\n"
     ]
    }
   ],
   "source": [
    "mnist_train_set, mnist_valid_set, mnist_train_y, mnist_valid_y = train_test_split(mnist_trainX[:, :-1], mnist_trainX[:, -1], test_size=10000, random_state=42)\n",
    "print('mnist_train_set ' + str(mnist_train_set.shape))\n",
    "print('mnist_valid_set ' + str(mnist_valid_set.shape))\n",
    "print('mnist_train_y ' + str(mnist_train_y.shape))\n",
    "print('mnist_valid_y ' + str(mnist_valid_y.shape))"
   ]
  },
  {
   "cell_type": "code",
   "execution_count": 9,
   "metadata": {
    "collapsed": false
   },
   "outputs": [],
   "source": [
    "# -----------CIFAR-10 SET -------- (sklearn fn)\n",
    "cifar_dict = sp.io.loadmat('../cifar/train.mat')\n",
    "cifar_trainX = cifar_dict['trainX']"
   ]
  },
  {
   "cell_type": "code",
   "execution_count": 10,
   "metadata": {
    "collapsed": true
   },
   "outputs": [],
   "source": [
    "cifar_train_set, cifar_valid_set, cifar_train_y, cifar_valid_y = train_test_split(cifar_trainX[:, :-1], cifar_trainX[:, -1], test_size=5000, random_state=42)"
   ]
  },
  {
   "cell_type": "code",
   "execution_count": null,
   "metadata": {
    "collapsed": true
   },
   "outputs": [],
   "source": [
    "print('cifar_train_set ' + str(cifar_train_set.shape))\n",
    "print('cifar_valid_set ' + str(cifar_valid_set.shape))\n",
    "print('cifar_train_y ' + str(cifar_train_y.shape))\n",
    "print('cifar_valid_y ' + str(cifar_valid_y.shape))"
   ]
  },
  {
   "cell_type": "code",
   "execution_count": 9,
   "metadata": {
    "collapsed": true
   },
   "outputs": [],
   "source": [
    "# --------------SPAM DataSet (sklearn fn)----------------\n",
    "spam_dict = sp.io.loadmat('../spam/spam_data.mat')\n",
    "spam_trainX= spam_dict['training_data']\n",
    "spam_labels = spam_dict['training_labels']"
   ]
  },
  {
   "cell_type": "code",
   "execution_count": 10,
   "metadata": {
    "collapsed": true
   },
   "outputs": [],
   "source": [
    "spam_train_set, spam_valid_set, spam_train_y, spam_valid_y = train_test_split(spam_trainX, spam_labels.T, test_size=0.2, random_state=42)"
   ]
  },
  {
   "cell_type": "code",
   "execution_count": 11,
   "metadata": {
    "collapsed": false
   },
   "outputs": [
    {
     "name": "stdout",
     "output_type": "stream",
     "text": [
      "spam_train_set (4137, 32)\n",
      "spam_valid_set (1035, 32)\n",
      "spam_train_y (4137, 1)\n",
      "spam_valid_y (1035, 1)\n"
     ]
    }
   ],
   "source": [
    "print('spam_train_set ' + str(spam_train_set.shape))\n",
    "print('spam_valid_set ' + str(spam_valid_set.shape))\n",
    "print('spam_train_y ' + str(spam_train_y.shape))\n",
    "print('spam_valid_y ' + str(spam_valid_y.shape))"
   ]
  },
  {
   "cell_type": "code",
   "execution_count": 13,
   "metadata": {
    "collapsed": false
   },
   "outputs": [
    {
     "name": "stdout",
     "output_type": "stream",
     "text": [
      "Training MNIST\n",
      "Sample_size: 100\n",
      "train_score: 0.69646\n",
      "valid_score: 0.6908\n",
      "Sample_size: 200\n",
      "train_score: 0.81514\n",
      "valid_score: 0.8101\n",
      "Sample_size: 500\n",
      "train_score: 0.8658\n",
      "valid_score: 0.8686\n",
      "Sample_size: 1000\n",
      "train_score: 0.88408\n",
      "valid_score: 0.882\n",
      "Sample_size: 2000\n",
      "train_score: 0.89828\n",
      "valid_score: 0.8967\n",
      "Sample_size: 5000\n",
      "train_score: 0.9148\n",
      "valid_score: 0.9084\n",
      "Sample_size: 10000\n",
      "train_score: 0.92634\n",
      "valid_score: 0.9092\n"
     ]
    },
    {
     "data": {
      "image/png": "[encoded data removed]",
      "text/plain": [
       "<matplotlib.figure.Figure at 0x10354e470>"
      ]
     },
     "metadata": {},
     "output_type": "display_data"
    },
    {
     "data": {
      "image/png": "[encoded data removed]",
      "text/plain": [
       "<matplotlib.figure.Figure at 0x108a99828>"
      ]
     },
     "metadata": {},
     "output_type": "display_data"
    }
   ],
   "source": [
    "# *********************PROBLEM 2 --> TRAIN DATA ***********************\n",
    "\n",
    "# ----------TRAIN MNIST DATA------------#\n",
    "print(\"Training MNIST\")\n",
    "clf_mnist = SVC(kernel=\"linear\")\n",
    "experiments = [100, 200, 500, 1000, 2000, 5000, 10000]\n",
    "# expect between 70-90% accuracy\n",
    "valid_error, train_error = train_svm(experiments, clf_mnist, mnist_train_set, mnist_train_y, mnist_valid_set, mnist_valid_y,\n",
    "          'MNIST')\n",
    "# print('Valid_error is: ' + str(valid_error))\n",
    "# print('Train_error is: ' + str(train_error))"
   ]
  },
  {
   "cell_type": "code",
   "execution_count": null,
   "metadata": {
    "collapsed": true
   },
   "outputs": [],
   "source": []
  },
  {
   "cell_type": "code",
   "execution_count": 16,
   "metadata": {
    "collapsed": false
   },
   "outputs": [
    {
     "name": "stdout",
     "output_type": "stream",
     "text": [
      "Training CIFAR\n",
      "Sample_size: 100\n",
      "train_score: 0.207666666667\n",
      "valid_score: 0.2076\n",
      "Sample_size: 200\n",
      "train_score: 0.250488888889\n",
      "valid_score: 0.2488\n",
      "Sample_size: 500\n",
      "train_score: 0.291533333333\n",
      "valid_score: 0.2804\n",
      "Sample_size: 1000\n",
      "train_score: 0.3008\n",
      "valid_score: 0.2766\n",
      "Sample_size: 2000\n",
      "train_score: 0.326355555556\n",
      "valid_score: 0.28\n",
      "Sample_size: 5000\n",
      "train_score: 0.375422222222\n",
      "valid_score: 0.2894\n"
     ]
    },
    {
     "data": {
      "image/png": "[encoded data removed]",
      "text/plain": [
       "<matplotlib.figure.Figure at 0x10d033588>"
      ]
     },
     "metadata": {},
     "output_type": "display_data"
    },
    {
     "data": {
      "image/png": "[encoded data removed]",
      "text/plain": [
       "<matplotlib.figure.Figure at 0x10920f550>"
      ]
     },
     "metadata": {},
     "output_type": "display_data"
    },
    {
     "name": "stdout",
     "output_type": "stream",
     "text": [
      "Valid_error is [0.20760000000000001, 0.24879999999999999, 0.28039999999999998, 0.27660000000000001, 0.28000000000000003, 0.28939999999999999]\n",
      "Train_error is: [0.20766666666666667, 0.25048888888888887, 0.29153333333333331, 0.30080000000000001, 0.32635555555555557, 0.37542222222222221]\n"
     ]
    }
   ],
   "source": [
    "# -----------TRAIN CIFAR DATA-----------#\n",
    "print(\"Training CIFAR\")\n",
    "clf_cifar = SVC(kernel='linear')\n",
    "experiments = [100, 200, 500, 1000, 2000, 5000]\n",
    "# expect between 25-35% accuracy\n",
    "valid_error, train_error = train_svm(experiments, clf_cifar, cifar_train_set, cifar_train_y, cifar_valid_set, cifar_valid_y, 'CIFAR')\n",
    "# print('Valid_error is ' + str(valid_error))\n",
    "# print('Train_error is: ' + str(train_error))"
   ]
  },
  {
   "cell_type": "code",
   "execution_count": 20,
   "metadata": {
    "collapsed": false
   },
   "outputs": [
    {
     "name": "stdout",
     "output_type": "stream",
     "text": [
      "Training SPAM\n",
      "Sample_size: 100\n",
      "train_score: 0.781295311745\n",
      "valid_score: 0.771760154739\n",
      "Sample_size: 200\n",
      "train_score: 0.801594973417\n",
      "valid_score: 0.791102514507\n",
      "Sample_size: 500\n",
      "train_score: 0.793136781054\n",
      "valid_score: 0.785299806576\n",
      "Sample_size: 1000\n",
      "train_score: 0.805219913001\n",
      "valid_score: 0.788201160542\n",
      "Sample_size: 2000\n",
      "train_score: 0.802561623973\n",
      "valid_score: 0.796905222437\n",
      "Sample_size: 4137\n",
      "train_score: 0.81029482842\n",
      "valid_score: 0.797872340426\n"
     ]
    },
    {
     "data": {
      "image/png": "[encoded data removed]",
      "text/plain": [
       "<matplotlib.figure.Figure at 0x1081af128>"
      ]
     },
     "metadata": {},
     "output_type": "display_data"
    },
    {
     "data": {
      "image/png": "[encoded data removed]",
      "text/plain": [
       "<matplotlib.figure.Figure at 0x1081d0198>"
      ]
     },
     "metadata": {},
     "output_type": "display_data"
    },
    {
     "name": "stdout",
     "output_type": "stream",
     "text": [
      "Valid_error is: [0.77176015473887816, 0.79110251450676983, 0.7852998065764023, 0.78820116054158607, 0.79690522243713735, 0.7978723404255319]\n",
      "Train_error is: [0.78129531174480427, 0.80159497341710972, 0.79313678105364915, 0.80521991300145002, 0.80256162397293374, 0.81029482841952638]\n"
     ]
    }
   ],
   "source": [
    "# ----------TRAIN SPAM DATA -------------\n",
    "print(\"Training SPAM\")\n",
    "clf_spam = SVC(kernel=\"linear\")\n",
    "experiments = [100, 200, 500, 1000, 2000, 4137]\n",
    "# expect between 70-90% accuracy\n",
    "valid_error, train_error = train_svm(experiments, clf_spam, spam_train_set, spam_train_y, spam_valid_set, spam_valid_y, 'SPAM')\n",
    "# print('Valid_error is: ' + str(valid_error))\n",
    "# print('Train_error is: ' + str(train_error))"
   ]
  },
  {
   "cell_type": "code",
   "execution_count": 9,
   "metadata": {
    "collapsed": false
   },
   "outputs": [
    {
     "name": "stdout",
     "output_type": "stream",
     "text": [
      "C value: 0.01\n",
      "valid_score [0.90920000000000001]\n",
      "C value: 0.001\n",
      "valid_score [0.90920000000000001]\n",
      "C value: 0.0001\n",
      "valid_score [0.90949999999999998]\n",
      "C value: 1e-05\n",
      "valid_score [0.91590000000000005]\n",
      "C value: 1e-06\n",
      "valid_score [0.93189999999999995]\n",
      "C value: 1e-07\n",
      "valid_score [0.92300000000000004]\n",
      "C value: 1e-08\n",
      "valid_score [0.89339999999999997]\n"
     ]
    }
   ],
   "source": [
    "# ************************** PROBLEM 3: BEST C Value ********************************\n",
    "from sklearn.svm import SVC\n",
    "C_range = [.01, .001, .0001, .00001, .000001, .0000001, .00000001, .000000001]\n",
    "experiments = [10000]\n",
    "for C in C_range:\n",
    "    clf_mnist = SVC(kernel=\"linear\", C=C)\n",
    "    scores = train_svm_no_plot(experiments, clf_mnist, mnist_train_set, mnist_train_y, mnist_valid_set, mnist_valid_y, 'MNIST')\n",
    "    print('C value: ' + str(C))\n",
    "    print('valid_score ' + str(scores[0]))"
   ]
  },
  {
   "cell_type": "code",
   "execution_count": 11,
   "metadata": {
    "collapsed": false
   },
   "outputs": [
    {
     "name": "stdout",
     "output_type": "stream",
     "text": [
      "C value: 2e-06\n",
      "valid_score [0.92769999999999997]\n",
      "C value: 3e-06\n",
      "valid_score [0.92300000000000004]\n",
      "C value: 4e-06\n",
      "valid_score [0.92100000000000004]\n",
      "C value: 5e-06\n",
      "valid_score [0.92020000000000002]\n",
      "C value: 6e-06\n",
      "valid_score [0.91820000000000002]\n"
     ]
    }
   ],
   "source": [
    "# ************************** PROBLEM 3: BEST C Value ********************************\n",
    "# TODO: Need to test these C values\n",
    "from sklearn.svm import SVC\n",
    "C_range = [.000002, .000003, .000004, .000005, .000006]\n",
    "experiments = [10000]\n",
    "for C in C_range:\n",
    "    clf_mnist = SVC(kernel=\"linear\", C=C)\n",
    "    scores = train_svm_no_plot(experiments, clf_mnist, mnist_train_set, mnist_train_y, mnist_valid_set, mnist_valid_y, 'MNIST')\n",
    "    print('C value: ' + str(C))\n",
    "    print('valid_score ' + str(scores[0]))"
   ]
  },
  {
   "cell_type": "code",
   "execution_count": null,
   "metadata": {
    "collapsed": true
   },
   "outputs": [],
   "source": [
    "# ************************** PROBLEM 3: BEST C Value ********************************\n",
    "#got this from http://scikit-learn.org/stable/auto_examples/svm/plot_rbf_parameters.html #\n",
    "from sklearn.model_selection import GridSearchCV, StratifiedShuffleSplit\n",
    "C_range = np.logspace(-2, 10, 13)\n",
    "gamma_range = np.logspace(-9, 3, 13)\n",
    "param_grid = dict(gamma=gamma_range, C=C_range, kernel=('linear', 'rbf'))\n",
    "cv = StratifiedShuffleSplit(n_splits=5, test_size=0.2, random_state=42)\n",
    "grid = GridSearchCV(SVC(), param_grid=param_grid, cv=cv)\n",
    "grid.fit(mnist_train_set, mnist_train_y)\n",
    "print(\"The best parameters are %s with a score of %0.2f\"\n",
    "      % (grid.best_params_, grid.best_score_))"
   ]
  },
  {
   "cell_type": "code",
   "execution_count": null,
   "metadata": {
    "collapsed": true
   },
   "outputs": [],
   "source": [
    "# ************************** PROBLEM 3: BEST C Value ********************************\n",
    "#got this from http://scikit-learn.org/stable/auto_examples/svm/plot_rbf_parameters.html #\n",
    "from sklearn.model_selection import GridSearchCV, StratifiedShuffleSplit\n",
    "C_range = np.logspace(-2, 10, 13)\n",
    "gamma_range = np.logspace(-9, 3, 13)\n",
    "param_grid = dict(gamma=gamma_range, C=C_range, kernel=('linear', 'rbf'))\n",
    "cv = StratifiedShuffleSplit(n_splits=5, test_size=0.2, random_state=42)\n",
    "grid = GridSearchCV(SVC(), param_grid=param_grid, cv=cv)\n",
    "grid.fit(mnist_train_set, mnist_train_y)\n",
    "print(\"The best parameters are %s with a score of %0.2f\"\n",
    "      % (grid.best_params_, grid.best_score_))"
   ]
  },
  {
   "cell_type": "code",
   "execution_count": null,
   "metadata": {
    "collapsed": true
   },
   "outputs": [],
   "source": []
  },
  {
   "cell_type": "code",
   "execution_count": 14,
   "metadata": {
    "collapsed": true
   },
   "outputs": [],
   "source": [
    "# ************************** PROBLEM 4: K-FOLD ********************************\n",
    "def k_fold_split(data, clf, k, name):\n",
    "    np.random.shuffle(data)\n",
    "    valid_errors = list()\n",
    "    copy_data = data[:, :]\n",
    "    for i in range(k):\n",
    "        if is_divisible_by_k(copy_data, k):\n",
    "            k_arrays = np.split(copy_data, k)\n",
    "        else:\n",
    "            divisible_data, extra_data = preprocess_data(copy_data, k)\n",
    "            k_arrays = np.split(divisible_data, k)\n",
    "            np.vstack((k_arrays[-1], extra_data)) \n",
    "        valid_set = k_arrays.pop(i)\n",
    "        valid_data = valid_set[:, :-1]\n",
    "        valid_y = valid_set[:, -1]\n",
    "        train_set = np.vstack(k_arrays)\n",
    "        train_data = train_set[:, :-1]\n",
    "        train_y = train_set[:, -1]\n",
    "        valid_errors.append(train_svm_no_plot([train_data.shape[0]], clf, train_data, train_y, valid_data, valid_y, name)[0])\n",
    "    valid_score = np.sum(valid_errors)/k\n",
    "    print(\"Valid Score is:\")\n",
    "    print(valid_score)\n",
    "    return valid_score"
   ]
  },
  {
   "cell_type": "code",
   "execution_count": 15,
   "metadata": {
    "collapsed": true
   },
   "outputs": [],
   "source": [
    "def preprocess_data(data, k):\n",
    "    remainder = data.shape[0] % k\n",
    "    extra_samples = data[-remainder:, :]\n",
    "    divisible_samples = data[:-remainder, :]\n",
    "    return divisible_samples, extra_samples"
   ]
  },
  {
   "cell_type": "code",
   "execution_count": null,
   "metadata": {
    "collapsed": true
   },
   "outputs": [],
   "source": [
    "def is_divisible_by_k(data, k):\n",
    "    if data.shape[0] % k == 0:\n",
    "        return True\n",
    "    return False"
   ]
  },
  {
   "cell_type": "code",
   "execution_count": null,
   "metadata": {
    "collapsed": false
   },
   "outputs": [],
   "source": [
    "print(\"Running KFOLD\")\n",
    "clf_spam = SVC(C=1000)\n",
    "# both arrays need to be 2-dimensional\n",
    "two_dim_label = np.array(spam_train_y)\n",
    "spam_training = np.hstack((spam_train_set, two_dim_label))\n",
    "k_fold_split(spam_training, clf_spam, 5, 'SPAM')"
   ]
  },
  {
   "cell_type": "code",
   "execution_count": null,
   "metadata": {
    "collapsed": true
   },
   "outputs": [],
   "source": []
  },
  {
   "cell_type": "markdown",
   "metadata": {},
   "source": [
    "\n"
   ]
  },
  {
   "cell_type": "code",
   "execution_count": 8,
   "metadata": {
    "collapsed": true
   },
   "outputs": [],
   "source": [
    "# ****************** PROBLEM 5: KAGGLE COMPETITION ***************\n",
    "# import csv"
   ]
  },
  {
   "cell_type": "code",
   "execution_count": null,
   "metadata": {
    "collapsed": true
   },
   "outputs": [],
   "source": [
    "# --------------- EXPERIMENT WITH MNIST CLF HYPER-PARAMETERS ------------------------#"
   ]
  },
  {
   "cell_type": "code",
   "execution_count": 8,
   "metadata": {
    "collapsed": false
   },
   "outputs": [
    {
     "name": "stdout",
     "output_type": "stream",
     "text": [
      "Sample_size: 1000\n",
      "train_score: 0.89012\n",
      "valid_score: 0.8893\n"
     ]
    }
   ],
   "source": [
    "# clf_mnist = SVC(C=0.000001, kernel=\"linear\", )\n",
    "# experiments = [1000]\n",
    "# # expect between 70-90% accuracy\n",
    "# valid_error, train_error = train_svm_no_plot(experiments, clf_mnist, mnist_train_set, mnist_train_y, mnist_valid_set, mnist_valid_y,\n",
    "#           'MNIST')"
   ]
  },
  {
   "cell_type": "code",
   "execution_count": 10,
   "metadata": {
    "collapsed": true
   },
   "outputs": [],
   "source": []
  },
  {
   "cell_type": "code",
   "execution_count": null,
   "metadata": {
    "collapsed": true
   },
   "outputs": [],
   "source": []
  },
  {
   "cell_type": "code",
   "execution_count": 12,
   "metadata": {
    "collapsed": false
   },
   "outputs": [],
   "source": [
    "# mnist submission\n",
    "# clf_mnist = SVC(C=0.000001, kernel=\"linear\")\n",
    "# mnist_data = io.loadmat('../mnist/test.mat')['testX']\n",
    "# clf_mnist.fit(mnist_train_set, mnist_train_y)\n",
    "# predicted_labels = clf_mnist.predict(mnist_data)\n",
    "# # file = open('mnist_submission.csv', 'w')\n",
    "# # w = csv.writer(f)\n",
    "\n",
    "# with open('mnist_kaggle.csv', 'w') as csvfile:\n",
    "#     writer = csv.writer(csvfile)\n",
    "#     for i in range(len(predicted_labels)):\n",
    "#         writer.writerow([i, predicted_labels[i]])\n",
    "# csvfile.close()"
   ]
  },
  {
   "cell_type": "code",
   "execution_count": null,
   "metadata": {
    "collapsed": true
   },
   "outputs": [],
   "source": [
    "# spam_data = io.loadmat('spam/spam_data.mat')\n",
    "# print(spam_data.keys())"
   ]
  },
  {
   "cell_type": "code",
   "execution_count": null,
   "metadata": {
    "collapsed": true
   },
   "outputs": [],
   "source": [
    "# spam submission\n",
    "# spam_data = io.loadmat('spam/spam_data.mat')['testX']\n",
    "# predicted_labels = clf_spam.predict(spam_data)\n",
    "# file = open('mnist_submission.csv', 'w')\n",
    "# w = csv.writer(f)\n",
    "\n",
    "# with open('spam_sample_submission.csv', 'w') as csvfile:\n",
    "#     writer = csv.writer(csvfile)\n",
    "#     for i in range(len(predicted_labels)):\n",
    "#         writer.writerow([i, predicted_labels[i]])\n",
    "# csvfile.close()"
   ]
  }
 ],
 "metadata": {
  "kernelspec": {
   "display_name": "Python [189hw]",
   "language": "python",
   "name": "Python [189hw]"
  },
  "language_info": {
   "codemirror_mode": {
    "name": "ipython",
    "version": 3
   },
   "file_extension": ".py",
   "mimetype": "text/x-python",
   "name": "python",
   "nbconvert_exporter": "python",
   "pygments_lexer": "ipython3",
   "version": "3.5.2"
  }
 },
 "nbformat": 4,
 "nbformat_minor": 0
}
