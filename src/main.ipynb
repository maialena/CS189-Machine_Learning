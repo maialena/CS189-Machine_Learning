{
 "cells": [
  {
   "cell_type": "code",
   "execution_count": 1,
   "metadata": {
    "collapsed": true
   },
   "outputs": [],
   "source": [
    "import matplotlib.pyplot as plt\n",
    "%matplotlib inline\n",
    "\n",
    "import numpy as np\n",
    "import scipy as sp\n",
    "from scipy import io\n",
    "from sklearn import svm\n",
    "from multiprocessing import Process"
   ]
  },
  {
   "cell_type": "code",
   "execution_count": 2,
   "metadata": {
    "collapsed": false
   },
   "outputs": [],
   "source": [
    "# loading matlab file\n",
    "# returns dictionary with variable names as keys and matrix as values\n",
    "mnist_dict = io.loadmat('mnist/train.mat')"
   ]
  },
  {
   "cell_type": "code",
   "execution_count": 3,
   "metadata": {},
   "outputs": [],
   "source": [
    "# ***********************PROBLEM 1 --> VALIDATION SETS***********************\n",
    "\n",
    "# -----------MNIST SET--------\n",
    "\n",
    "# print(mnist_dict.keys())\n",
    "\n",
    "# only need trainX, the matrix data\n",
    "# notice that other keys have __name__ convention; means private variables (python thing)\n",
    "# print('matrix tied to trainX key:')\n",
    "# print(mnist_train['trainX'])\n",
    "\n",
    "# get the matrix\n",
    "mnist_trainX = mnist_dict['trainX']\n",
    "\n",
    "# gives the dimensions of the nd array, these are ndarrays (scipy)\n",
    "# (n, d) = (number of row vectors, dimension of each vector), e.g. (2,3) 2 x 3 matrix\n",
    "# print('\\n shape of mnist_train:')\n",
    "# print(mnist_trainX.shape)\n",
    "\n",
    "\n",
    "# Last column is the label (28 x 28 matrix so 784 columns of data, the 785th is the label)\n",
    "# print(trainX[0, -1]) \n",
    "\n",
    "\n",
    "#shuffle matrix\n",
    "np.random.shuffle(mnist_trainX)\n",
    "num_points_mnist = mnist_trainX.shape[0] #60,000 rows = points\n",
    "mnist_valid_set = mnist_trainX[:10000, :-1] #select first 10,000 rows, all the columns except last one\n",
    "mnist_valid_y = mnist_trainX[:10000, -1] #get last column of first 10000 points --> the label for valid set\n",
    "mnist_train_set = mnist_trainX[10000:, :-1] #the rest (50000 points) is for training\n",
    "mnist_train_y = mnist_trainX[10000:, -1]  #get last column of last 50000 points --> label for training set"
   ]
  },
  {
   "cell_type": "code",
   "execution_count": 17,
   "metadata": {},
   "outputs": [
    {
     "name": "stdout",
     "output_type": "stream",
     "text": [
      "(5000,)\n(5000, 3072)\n(45000,)\n(45000, 3072)\n[0 1 2 3 4 5 6 7 8 9]\n"
     ]
    }
   ],
   "source": [
    "# ---------------CIFAR-10 SET----------------\n",
    "cifar_dict = sp.io.loadmat('cifar/train.mat')\n",
    "# print('cifar_dict keys') \n",
    "# print(cifar_dict.keys())\n",
    "\n",
    "cifar_trainX = cifar_dict['trainX']\n",
    "\n",
    "# print('cifar_dict dimension') \n",
    "# print(cifar_trainX.shape)\n",
    "\n",
    "np.random.shuffle(cifar_trainX)\n",
    "cifar_valid_set = cifar_trainX[:5000, :-1] \n",
    "cifar_valid_y = cifar_trainX[:5000, -1] \n",
    "cifar_train_set = cifar_trainX[5000:, :-1] \n",
    "cifar_train_y = cifar_trainX[5000:, -1]\n",
    "print(cifar_valid_y.shape)\n",
    "print(cifar_valid_set.shape)\n",
    "print(cifar_train_y.shape)\n",
    "print(cifar_train_set.shape)\n",
    "\n",
    "labels = np.unique(cifar_valid_y)\n",
    "print(labels)"
   ]
  },
  {
   "cell_type": "code",
   "execution_count": null,
   "metadata": {},
   "outputs": [],
   "source": [
    "# --------------SPAM DataSet----------------\n",
    "spam_dict = sp.io.loadmat('spam/spam_data.mat')\n",
    "# print('spam keys') \n",
    "# print(spam_dict.keys())\n",
    "\n",
    "spam_trainX = spam_dict['training_data']\n",
    "\n",
    "# print('dimension of spam data')\n",
    "# print(spam_trainX.shape)\n",
    "\n",
    "np.random.shuffle(spam_trainX)\n",
    "spam_valid_set = spam_trainX[:1034, :-1] \n",
    "spam_valid_y = spam_trainX[:1034, -1] \n",
    "spam_train_set = spam_trainX[1034:, :-1] \n",
    "spam_train_y = spam_trainX[1034:, -1]"
   ]
  },
  {
   "cell_type": "code",
   "execution_count": 27,
   "metadata": {},
   "outputs": [],
   "source": [
    "# *********************PROBLEM 2 --> TRAIN DATA ***********************\n",
    "\n",
    "\n",
    "error = list() # need error to be an array in order to plot it (See matplotlib.pyplot)\n",
    "\n",
    "\n",
    "# calculate_error takes in two arrays of labels: the real labels y and\n",
    "# the labels predicted by the svm y_hat. It returns the error_rate\n",
    "def calculate_error(y, y_hat):\n",
    "    # y = true values, y_hat = predicted y-values\n",
    "    error = 0\n",
    "    size = y.shape[0] # num_samples\n",
    "    for s in range(size):\n",
    "        if y[s] != y_hat[s]:\n",
    "            error += 1\n",
    "    print('Error rate is ')\n",
    "    print(error/size)\n",
    "    print('\\n')\n",
    "    print('Accuracy is ')\n",
    "    print(1 - error/size)\n",
    "    return error/size\n",
    "\n",
    "\n",
    "def plot_error(data, labels, name):\n",
    "    plt.plot(data, labels)\n",
    "    plt.xlabel('num_samples')\n",
    "    plt.ylabel('error_rate')\n",
    "    plt.title(name + '_Linear_SVM')\n",
    "    plt.show()\n",
    "\n",
    "\n",
    "# returns plot of error rate\n",
    "def train_svm(samples, clf, train_set, train_y, valid_set, valid_y, name):\n",
    "    print('Training ' + name + '\\n')\n",
    "    for sample_size in samples:\n",
    "        # fit the training data to the labels\n",
    "        clf.fit(train_set[:sample_size], train_y[:sample_size])\n",
    "        y_hat = clf.predict(valid_set)\n",
    "        error.append(calculate_error(valid_y, y_hat))\n",
    "    plot_error(samples, error, name)"
   ]
  },
  {
   "cell_type": "code",
   "execution_count": null,
   "metadata": {},
   "outputs": [
    {
     "data": {
      "image/png": "[encoded data removed]",
      "text/plain": [
       "<matplotlib.figure.Figure at 0x10738ce80>"
      ]
     },
     "metadata": {},
     "output_type": "display_data"
    }
   ],
   "source": [
    "# ----------TRAIN MNIST DATA------------#\n",
    "from sklearn.svm import SVC\n",
    "clf_mnist = SVC()\n",
    "experiments = [100, 200, 500, 1000, 2000, 5000, 10000]\n",
    "train_svm(experiments, clf_mnist, mnist_train_set, mnist_train_y, mnist_valid_set, mnist_valid_y, 'MNIST')"
   ]
  },
  {
   "cell_type": "code",
   "execution_count": 28,
   "metadata": {},
   "outputs": [
    {
     "name": "stdout",
     "output_type": "stream",
     "text": [
      "Training CIFAR\n\n"
     ]
    },
    {
     "name": "stdout",
     "output_type": "stream",
     "text": [
      "Error rate is \n0.7726\n\n\nAccuracy is \n0.22740000000000005\n\n\n"
     ]
    },
    {
     "name": "stdout",
     "output_type": "stream",
     "text": [
      "Error rate is \n0.7394\n\n\nAccuracy is \n0.26060000000000005\n\n\n"
     ]
    },
    {
     "name": "stdout",
     "output_type": "stream",
     "text": [
      "Error rate is \n0.7164\n\n\nAccuracy is \n0.28359999999999996\n\n\n"
     ]
    },
    {
     "name": "stdout",
     "output_type": "stream",
     "text": [
      "Error rate is \n0.7162\n\n\nAccuracy is \n0.28380000000000005\n\n\n"
     ]
    },
    {
     "name": "stdout",
     "output_type": "stream",
     "text": [
      "Error rate is \n0.7092\n\n\nAccuracy is \n0.29079999999999995\n\n\n"
     ]
    }
   ],
   "source": [
    "# -----------TRAIN CIFAR DATA-----------#\n",
    "clf_cifar = SVC(kernel='linear')\n",
    "experiments = [100, 200, 500, 1000, 2000, 5000]\n",
    "# # expect between 25-35% accuracy\n",
    "train_svm(experiments, clf_cifar, cifar_train_set, cifar_train_y, cifar_valid_set, cifar_valid_y, 'CIFAR')"
   ]
  },
  {
   "cell_type": "code",
   "execution_count": null,
   "metadata": {},
   "outputs": [
    {
     "name": "stdout",
     "output_type": "stream",
     "text": [
      "Training SPAM\n\nError rate is \n"
     ]
    },
    {
     "ename": "TypeError",
     "evalue": "unsupported operand type(s) for +: 'float' and 'str'",
     "traceback": [
      "\u001b[0;31m---------------------------------------------------------------------------\u001b[0m",
      "\u001b[0;31mTypeError\u001b[0m                                 Traceback (most recent call last)",
      "\u001b[0;32m<ipython-input-26-7e82b23b97d1>\u001b[0m in \u001b[0;36m<module>\u001b[0;34m()\u001b[0m\n\u001b[1;32m      2\u001b[0m \u001b[0mclf_spam\u001b[0m \u001b[0;34m=\u001b[0m \u001b[0mSVC\u001b[0m\u001b[0;34m(\u001b[0m\u001b[0;34m)\u001b[0m\u001b[0;34m\u001b[0m\u001b[0m\n\u001b[1;32m      3\u001b[0m \u001b[0mexperiments\u001b[0m \u001b[0;34m=\u001b[0m \u001b[0;34m[\u001b[0m\u001b[0;36m100\u001b[0m\u001b[0;34m,\u001b[0m \u001b[0;36m200\u001b[0m\u001b[0;34m,\u001b[0m \u001b[0;36m500\u001b[0m\u001b[0;34m,\u001b[0m \u001b[0;36m1000\u001b[0m\u001b[0;34m,\u001b[0m \u001b[0;36m2000\u001b[0m\u001b[0;34m,\u001b[0m \u001b[0;36m4137\u001b[0m\u001b[0;34m]\u001b[0m\u001b[0;34m\u001b[0m\u001b[0m\n\u001b[0;32m----> 4\u001b[0;31m \u001b[0mtrain_svm\u001b[0m\u001b[0;34m(\u001b[0m\u001b[0mexperiments\u001b[0m\u001b[0;34m,\u001b[0m \u001b[0mclf_spam\u001b[0m\u001b[0;34m,\u001b[0m \u001b[0mspam_train_set\u001b[0m\u001b[0;34m,\u001b[0m \u001b[0mspam_train_y\u001b[0m\u001b[0;34m,\u001b[0m \u001b[0mspam_valid_set\u001b[0m\u001b[0;34m,\u001b[0m \u001b[0mspam_valid_y\u001b[0m\u001b[0;34m,\u001b[0m \u001b[0;34m'SPAM'\u001b[0m\u001b[0;34m)\u001b[0m\u001b[0;34m\u001b[0m\u001b[0m\n\u001b[0m",
      "\u001b[0;32m<ipython-input-25-3de2ce196da0>\u001b[0m in \u001b[0;36mtrain_svm\u001b[0;34m(samples, clf, train_set, train_y, valid_set, valid_y, name)\u001b[0m\n\u001b[1;32m     36\u001b[0m         \u001b[0mclf\u001b[0m\u001b[0;34m.\u001b[0m\u001b[0mfit\u001b[0m\u001b[0;34m(\u001b[0m\u001b[0mtrain_set\u001b[0m\u001b[0;34m[\u001b[0m\u001b[0;34m:\u001b[0m\u001b[0msample_size\u001b[0m\u001b[0;34m]\u001b[0m\u001b[0;34m,\u001b[0m \u001b[0mtrain_y\u001b[0m\u001b[0;34m[\u001b[0m\u001b[0;34m:\u001b[0m\u001b[0msample_size\u001b[0m\u001b[0;34m]\u001b[0m\u001b[0;34m)\u001b[0m\u001b[0;34m\u001b[0m\u001b[0m\n\u001b[1;32m     37\u001b[0m         \u001b[0my_hat\u001b[0m \u001b[0;34m=\u001b[0m \u001b[0mclf\u001b[0m\u001b[0;34m.\u001b[0m\u001b[0mpredict\u001b[0m\u001b[0;34m(\u001b[0m\u001b[0mvalid_set\u001b[0m\u001b[0;34m)\u001b[0m\u001b[0;34m\u001b[0m\u001b[0m\n\u001b[0;32m---> 38\u001b[0;31m         \u001b[0merror\u001b[0m\u001b[0;34m.\u001b[0m\u001b[0mappend\u001b[0m\u001b[0;34m(\u001b[0m\u001b[0mcalculate_error\u001b[0m\u001b[0;34m(\u001b[0m\u001b[0mvalid_y\u001b[0m\u001b[0;34m,\u001b[0m \u001b[0my_hat\u001b[0m\u001b[0;34m)\u001b[0m\u001b[0;34m)\u001b[0m\u001b[0;34m\u001b[0m\u001b[0m\n\u001b[0m\u001b[1;32m     39\u001b[0m     \u001b[0mplot_error\u001b[0m\u001b[0;34m(\u001b[0m\u001b[0msamples\u001b[0m\u001b[0;34m,\u001b[0m \u001b[0merror\u001b[0m\u001b[0;34m,\u001b[0m \u001b[0mname\u001b[0m\u001b[0;34m)\u001b[0m\u001b[0;34m\u001b[0m\u001b[0m\n",
      "\u001b[0;32m<ipython-input-25-3de2ce196da0>\u001b[0m in \u001b[0;36mcalculate_error\u001b[0;34m(y, y_hat)\u001b[0m\n\u001b[1;32m     15\u001b[0m             \u001b[0merror\u001b[0m \u001b[0;34m+=\u001b[0m \u001b[0;36m1\u001b[0m\u001b[0;34m\u001b[0m\u001b[0m\n\u001b[1;32m     16\u001b[0m     \u001b[0mprint\u001b[0m\u001b[0;34m(\u001b[0m\u001b[0;34m'Error rate is '\u001b[0m\u001b[0;34m)\u001b[0m\u001b[0;34m\u001b[0m\u001b[0m\n\u001b[0;32m---> 17\u001b[0;31m     \u001b[0mprint\u001b[0m\u001b[0;34m(\u001b[0m\u001b[0merror\u001b[0m\u001b[0;34m/\u001b[0m\u001b[0msize\u001b[0m \u001b[0;34m+\u001b[0m \u001b[0;34m'\\n'\u001b[0m\u001b[0;34m)\u001b[0m\u001b[0;34m\u001b[0m\u001b[0m\n\u001b[0m\u001b[1;32m     18\u001b[0m     \u001b[0mprint\u001b[0m\u001b[0;34m(\u001b[0m\u001b[0;34m'Accuracy is '\u001b[0m\u001b[0;34m)\u001b[0m\u001b[0;34m\u001b[0m\u001b[0m\n\u001b[1;32m     19\u001b[0m     \u001b[0mprint\u001b[0m\u001b[0;34m(\u001b[0m\u001b[0;36m1\u001b[0m \u001b[0;34m-\u001b[0m \u001b[0merror\u001b[0m\u001b[0;34m/\u001b[0m\u001b[0msize\u001b[0m \u001b[0;34m+\u001b[0m \u001b[0;34m'\\n'\u001b[0m\u001b[0;34m)\u001b[0m\u001b[0;34m\u001b[0m\u001b[0m\n",
      "\u001b[0;31mTypeError\u001b[0m: unsupported operand type(s) for +: 'float' and 'str'"
     ],
     "output_type": "error"
    }
   ],
   "source": [
    "# ----------TRAIN SPAM DATA -------------\n",
    "clf_spam = SVC()\n",
    "experiments = [100, 200, 500, 1000, 2000, 4137]\n",
    "train_svm(experiments, clf_spam, spam_train_set, spam_train_y, spam_valid_set, spam_valid_y, 'SPAM')"
   ]
  },
  {
   "cell_type": "code",
   "execution_count": null,
   "metadata": {},
   "outputs": [],
   "source": [
    "# ************************** PROBLEM 3: BEST C Value ********************************\n"
   ]
  },
  {
   "cell_type": "markdown",
   "metadata": {},
   "source": [
    ""
   ]
  },
  {
   "cell_type": "code",
   "execution_count": null,
   "metadata": {},
   "outputs": [],
   "source": [
    "# ****************** PROBLEM 5: KAGGLE COMPETITION ***************\n",
    "# from sklearn import svm\n",
    "# #create four classifers\n",
    "# #in the constructor for the svc you need to make sure it's a binary classifier\n",
    "# clf1 = svm.SVC()\n",
    "# clf2 = svm.SVC()\n",
    "# clf3 = svm.SVC()\n",
    "# clf4 = svm.SVC()\n",
    "# \n",
    "# #add extra models to increase the hamming distance, get more room for errors\n",
    "# \n",
    "# #fit the data X to the labels yi where yi = {0,1}\n",
    "# #binary classifer\n",
    "# #this comes after you build y1, y2, y3, y4\n",
    "# clf1.fit(X, y1)\n",
    "# clf2.fit(X, y2)\n",
    "# clf3.fit(X, y3)\n",
    "# clf4.fit(X, y4)\n",
    "# \n",
    "# \n",
    "# \n",
    "#"
   ]
  },
  {
   "cell_type": "code",
   "execution_count": null,
   "metadata": {},
   "outputs": [],
   "source": [
    ""
   ]
  }
 ],
 "metadata": {
  "kernelspec": {
   "display_name": "Python 2",
   "language": "python",
   "name": "python2"
  },
  "language_info": {
   "codemirror_mode": {
    "name": "ipython",
    "version": 2.0
   },
   "file_extension": ".py",
   "mimetype": "text/x-python",
   "name": "python",
   "nbconvert_exporter": "python",
   "pygments_lexer": "ipython2",
   "version": "2.7.6"
  }
 },
 "nbformat": 4,
 "nbformat_minor": 0
}