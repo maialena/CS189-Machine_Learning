{
 "cells": [
  {
   "cell_type": "code",
   "execution_count": 1,
   "metadata": {
    "collapsed": true
   },
   "outputs": [],
   "source": [
    "import matplotlib.pyplot as plt\n",
    "%matplotlib inline\n",
    "\n",
    "import numpy as np\n",
    "import scipy as sp\n",
    "from scipy import io\n",
    "from sklearn.svm import SVC"
   ]
  },
  {
   "cell_type": "code",
   "execution_count": null,
   "metadata": {},
   "outputs": [],
   "source": [
    "#plots accuracy, returns None\n",
    "def plot_accuracy(x, y, name):\n",
    "    plt.plot(x, y)\n",
    "    plt.xlabel('num_samples')\n",
    "    plt.ylabel('accuracy')\n",
    "    plt.title(name)\n",
    "    plt.show()"
   ]
  },
  {
   "cell_type": "code",
   "execution_count": 12,
   "metadata": {},
   "outputs": [],
   "source": [
    "# returns list of valid_errors from each experiment; plots accuracy\n",
    "def train_svm(samples, clf, train_set, train_y, valid_set, valid_y, name):\n",
    "    train_error = list()\n",
    "    valid_error = list()\n",
    "    for sample_size in samples:\n",
    "        clf.fit(train_set[:sample_size], train_y[:sample_size])\n",
    "        print(\"sample_size: \" + str(sample_size))\n",
    "        train_error.append(clf.score(train_set, train_y))\n",
    "        print(\"train_error: \" + str(train_error))\n",
    "        valid_error.append(clf.score(valid_set, valid_y))\n",
    "        print(\"valid_error: \" + str(valid_error))\n",
    "    plot_accuracy(samples, train_error, name + ' Training_Accuracy')\n",
    "    plot_accuracy(samples, valid_error, name + ' Validation_Accuracy')\n",
    "    return valid_error"
   ]
  },
  {
   "cell_type": "code",
   "execution_count": 5,
   "metadata": {
    "collapsed": false
   },
   "outputs": [],
   "source": [
    "# returns dictionary with variable names as keys and matrix as values\n",
    "mnist_dict = io.loadmat('mnist/train.mat')"
   ]
  },
  {
   "cell_type": "code",
   "execution_count": 15,
   "metadata": {},
   "outputs": [],
   "source": [
    "#Splits data set into training and validation set of given size\n",
    "def split_train_and_valid_sets(data, size):\n",
    "    np.random.shuffle(data)\n",
    "    shape = data.shape[0] \n",
    "    valid_set = data[:size, :-1] \n",
    "    valid_y = data[:size, -1] \n",
    "    train_set = data[size:, :-1] \n",
    "    train_y = data[size:, -1]\n",
    "    return shape, valid_set, valid_y, train_set, train_y"
   ]
  },
  {
   "cell_type": "code",
   "execution_count": 6,
   "metadata": {},
   "outputs": [],
   "source": [
    "# ***********************PROBLEM 1 --> VALIDATION SETS***********************\n",
    "# -----------MNIST SET--------\n",
    "# # get the matrix\n",
    "# mnist_trainX = mnist_dict['trainX']\n",
    "# np.random.shuffle(mnist_trainX)\n",
    "# num_points_mnist = mnist_trainX.shape[0] \n",
    "# mnist_valid_set = mnist_trainX[:10000, :-1] \n",
    "# mnist_valid_y = mnist_trainX[:10000, -1] \n",
    "# mnist_train_set = mnist_trainX[10000:, :-1] \n",
    "# mnist_train_y = mnist_trainX[10000:, -1]"
   ]
  },
  {
   "cell_type": "code",
   "execution_count": null,
   "metadata": {},
   "outputs": [],
   "source": [
    "# -----------MNIST SET--------\n",
    "mnist_trainX = mnist_dict['trainX']\n",
    "shape, mnist_valid_set, mnist_valid_y, mnist_train_set, mnist_train_y = split_train_and_valid_sets(mnist_trainX, 10000)"
   ]
  },
  {
   "cell_type": "code",
   "execution_count": null,
   "metadata": {},
   "outputs": [
    {
     "name": "stdout",
     "output_type": "stream",
     "text": [
      "(5000,)\n(5000, 3072)\n(45000,)\n(45000, 3072)\n[0 1 2 3 4 5 6 7 8 9]\n"
     ]
    }
   ],
   "source": [
    "# ---------------CIFAR-10 SET----------------\n",
    "# cifar_dict = sp.io.loadmat('cifar/train.mat')\n",
    "# cifar_trainX = cifar_dict['trainX']\n",
    "# np.random.shuffle(cifar_trainX)\n",
    "# cifar_valid_set = cifar_trainX[:5000, :-1] \n",
    "# cifar_valid_y = cifar_trainX[:5000, -1] \n",
    "# cifar_train_set = cifar_trainX[5000:, :-1] \n",
    "# cifar_train_y = cifar_trainX[5000:, -1]"
   ]
  },
  {
   "cell_type": "code",
   "execution_count": null,
   "metadata": {},
   "outputs": [],
   "source": [
    "# ---------------CIFAR-10 SET----------------\n",
    "cifar_dict = sp.io.loadmat('cifar/train.mat')\n",
    "cifar_trainX = cifar_dict['trainX']\n",
    "cifar_shape, cifar_valid_set, cifar_valid_y, cifar_train_set, cifar_train_y = split_train_and_valid_sets(cifar_trainX, 5000)"
   ]
  },
  {
   "cell_type": "code",
   "execution_count": 8,
   "metadata": {},
   "outputs": [],
   "source": [
    "# --------------SPAM DataSet----------------\n",
    "# spam_dict = sp.io.loadmat('spam/spam_data.mat')\n",
    "# spam_trainX = spam_dict['training_data']\n",
    "# np.random.shuffle(spam_trainX)\n",
    "# spam_valid_set = spam_trainX[:1034, :-1] \n",
    "# spam_valid_y = spam_trainX[:1034, -1] \n",
    "# spam_train_set = spam_trainX[1034:, :-1] \n",
    "# spam_train_y = spam_trainX[1034:, -1]"
   ]
  },
  {
   "cell_type": "code",
   "execution_count": 40,
   "metadata": {},
   "outputs": [
    {
     "name": "stdout",
     "output_type": "stream",
     "text": [
      "(5172, 32) (5172, 1)\n"
     ]
    }
   ],
   "source": [
    "# --------------SPAM DataSet----------------\n",
    "spam_dict = sp.io.loadmat('spam/spam_data.mat')\n",
    "data_set= spam_dict['training_data']\n",
    "data_labels = spam_dict['training_labels']\n",
    "print(data_set.shape, data_labels.T.shape)\n",
    "merged_data_and_labels = np.hstack((data_set, data_labels.T))\n",
    "np.random.shuffle(merged_data_and_labels)\n",
    "spam_shape, spam_valid_set, spam_valid_y, spam_train_set, spam_train_y = split_train_and_valid_sets(merged_data_and_labels, 1034)"
   ]
  },
  {
   "cell_type": "code",
   "execution_count": 8,
   "metadata": {},
   "outputs": [],
   "source": [
    "# *********************PROBLEM 2 --> TRAIN DATA ***********************\n",
    "\n",
    "# ----------TRAIN MNIST DATA------------#\n",
    "clf_mnist = SVC()\n",
    "experiments = [100, 200, 500, 1000, 2000, 5000, 10000]\n",
    "# expect between 70-90% accuracy\n",
    "train_svm(experiments, clf_mnist, mnist_train_set, mnist_train_y, mnist_valid_set, mnist_valid_y,\n",
    "          'MNIST')"
   ]
  },
  {
   "cell_type": "code",
   "execution_count": null,
   "metadata": {},
   "outputs": [],
   "source": [
    "# -----------TRAIN CIFAR DATA-----------#\n",
    "\n",
    "clf_cifar = SVC(kernel='linear')\n",
    "experiments = [100, 200, 500, 1000, 2000, 5000]\n",
    "# expect between 25-35% accuracy\n",
    "train_svm(experiments, clf_cifar, cifar_train_set, cifar_train_y, cifar_valid_set, cifar_valid_y, 'CIFAR')"
   ]
  },
  {
   "cell_type": "code",
   "execution_count": 10,
   "metadata": {},
   "outputs": [
    {
     "name": "stdout",
     "output_type": "stream",
     "text": [
      "Training SPAM\n\n"
     ]
    },
    {
     "data": {
      "image/png": "[encoded data removed]",
      "text/plain": [
       "<matplotlib.figure.Figure at 0x125f5a390>"
      ]
     },
     "metadata": {},
     "output_type": "display_data"
    },
    {
     "data": {
      "image/png": "[encoded data removed]",
      "text/plain": [
       "<matplotlib.figure.Figure at 0x1262b1e80>"
      ]
     },
     "metadata": {},
     "output_type": "display_data"
    }
   ],
   "source": [
    "# ----------TRAIN SPAM DATA -------------\n",
    "clf_spam = SVC()\n",
    "experiments = [100, 200, 500, 1000, 2000, 4137]\n",
    "# expect between 70-90% accuracy\n",
    "train_svm(experiments, clf_spam, spam_train_set, spam_train_y, spam_valid_set, spam_valid_y, 'SPAM')"
   ]
  },
  {
   "cell_type": "code",
   "execution_count": null,
   "metadata": {},
   "outputs": [],
   "source": [
    "# ************************** PROBLEM 3: BEST C Value ********************************\n",
    "from sklearn.svm import SVC\n",
    "C_range = np.logspace(-5, 1, num=4)\n",
    "experiments = [10000]\n",
    "for C in C_range:\n",
    "    clf_mnist = SVC(C=C)\n",
    "    train_svm(experiments, clf_mnist, mnist_train_set, mnist_train_y, mnist_valid_set, mnist_valid_y, 'MNIST)')\n"
   ]
  },
  {
   "cell_type": "code",
   "execution_count": 41,
   "metadata": {},
   "outputs": [],
   "source": [
    "# ************************** PROBLEM 4: K-FOLD ********************************\n",
    "def k_fold_split(data, clf, k, name):\n",
    "    np.random.shuffle(data)\n",
    "    valid_errors = list()\n",
    "    copy_data = data[:, :]\n",
    "    for i in range(k):\n",
    "        if is_divisible_by_k(copy_data, k):\n",
    "            k_arrays = np.split(copy_data, k)\n",
    "        else:\n",
    "            extra_data, divisible_data = preprocess_data(data, k)\n",
    "            k_arrays = np.split(divisible_data, k)\n",
    "            k_arrays[-1].hstack(extra_data, axis=0) #check axis\n",
    "        valid_set = k_arrays[i]\n",
    "        valid_data = valid_set[:, :-1]\n",
    "        valid_y = valid_set[:, -1]\n",
    "        train_set = np.hstack(k_arrays.pop(i), axis=0)\n",
    "        train_data = train_set[:, :-1]\n",
    "        train_y = train_set[:, -1]\n",
    "        valid_errors.append(train_svm([train_data.shape], clf, train_data, train_y, valid_data, valid_y, name))\n",
    "    valid_score = [sum(score[0])/k for score in valid_errors]\n",
    "    print(\"Valid Score is:\")\n",
    "    print(valid_score)\n",
    "    return valid_score"
   ]
  },
  {
   "cell_type": "code",
   "execution_count": 42,
   "metadata": {},
   "outputs": [],
   "source": [
    "def preprocess_data(data, k):\n",
    "    remainder = data.shape % k\n",
    "    extra_samples = data[-remainder, :]\n",
    "    divisible_samples = data[:-remainder, :]\n",
    "    return divisible_samples, extra_samples"
   ]
  },
  {
   "cell_type": "code",
   "execution_count": 43,
   "metadata": {},
   "outputs": [],
   "source": [
    "def is_divisible_by_k(data, k):\n",
    "    if data.shape % k == 0:\n",
    "        return True\n",
    "    return False"
   ]
  },
  {
   "cell_type": "code",
   "execution_count": 44,
   "metadata": {},
   "outputs": [
    {
     "ename": "ValueError",
     "evalue": "all the input arrays must have same number of dimensions",
     "traceback": [
      "\u001b[0;31m---------------------------------------------------------------------------\u001b[0m",
      "\u001b[0;31mValueError\u001b[0m                                Traceback (most recent call last)",
      "\u001b[0;32m<ipython-input-44-36d6fa1df94f>\u001b[0m in \u001b[0;36m<module>\u001b[0;34m()\u001b[0m\n\u001b[1;32m      1\u001b[0m \u001b[0mclf_spam\u001b[0m \u001b[0;34m=\u001b[0m \u001b[0mSVC\u001b[0m\u001b[0;34m(\u001b[0m\u001b[0;34m)\u001b[0m\u001b[0;34m\u001b[0m\u001b[0m\n\u001b[0;32m----> 2\u001b[0;31m \u001b[0mspam_training\u001b[0m \u001b[0;34m=\u001b[0m \u001b[0mnp\u001b[0m\u001b[0;34m.\u001b[0m\u001b[0mhstack\u001b[0m\u001b[0;34m(\u001b[0m\u001b[0;34m(\u001b[0m\u001b[0mspam_train_set\u001b[0m\u001b[0;34m,\u001b[0m \u001b[0mspam_train_y\u001b[0m\u001b[0;34m.\u001b[0m\u001b[0mT\u001b[0m\u001b[0;34m)\u001b[0m\u001b[0;34m)\u001b[0m\u001b[0;34m\u001b[0m\u001b[0m\n\u001b[0m\u001b[1;32m      3\u001b[0m \u001b[0mprint\u001b[0m\u001b[0;34m(\u001b[0m\u001b[0mspam_train_set\u001b[0m\u001b[0;34m.\u001b[0m\u001b[0mshape\u001b[0m\u001b[0;34m,\u001b[0m \u001b[0mspam_train_y\u001b[0m\u001b[0;34m.\u001b[0m\u001b[0mT\u001b[0m\u001b[0;34m.\u001b[0m\u001b[0mshape\u001b[0m\u001b[0;34m)\u001b[0m\u001b[0;34m\u001b[0m\u001b[0m\n\u001b[1;32m      4\u001b[0m \u001b[0mk_fold_split\u001b[0m\u001b[0;34m(\u001b[0m\u001b[0mspam_training\u001b[0m\u001b[0;34m,\u001b[0m \u001b[0mclf_spam\u001b[0m\u001b[0;34m,\u001b[0m \u001b[0;36m5\u001b[0m\u001b[0;34m,\u001b[0m \u001b[0;34m'SPAM'\u001b[0m\u001b[0;34m)\u001b[0m\u001b[0;34m\u001b[0m\u001b[0m\n",
      "\u001b[0;32m/Users/maialena/anaconda/envs/189hw/lib/python3.5/site-packages/numpy/core/shape_base.py\u001b[0m in \u001b[0;36mhstack\u001b[0;34m(tup)\u001b[0m\n\u001b[1;32m    286\u001b[0m         \u001b[0;32mreturn\u001b[0m \u001b[0m_nx\u001b[0m\u001b[0;34m.\u001b[0m\u001b[0mconcatenate\u001b[0m\u001b[0;34m(\u001b[0m\u001b[0marrs\u001b[0m\u001b[0;34m,\u001b[0m \u001b[0;36m0\u001b[0m\u001b[0;34m)\u001b[0m\u001b[0;34m\u001b[0m\u001b[0m\n\u001b[1;32m    287\u001b[0m     \u001b[0;32melse\u001b[0m\u001b[0;34m:\u001b[0m\u001b[0;34m\u001b[0m\u001b[0m\n\u001b[0;32m--> 288\u001b[0;31m         \u001b[0;32mreturn\u001b[0m \u001b[0m_nx\u001b[0m\u001b[0;34m.\u001b[0m\u001b[0mconcatenate\u001b[0m\u001b[0;34m(\u001b[0m\u001b[0marrs\u001b[0m\u001b[0;34m,\u001b[0m \u001b[0;36m1\u001b[0m\u001b[0;34m)\u001b[0m\u001b[0;34m\u001b[0m\u001b[0m\n\u001b[0m\u001b[1;32m    289\u001b[0m \u001b[0;34m\u001b[0m\u001b[0m\n\u001b[1;32m    290\u001b[0m \u001b[0;32mdef\u001b[0m \u001b[0mstack\u001b[0m\u001b[0;34m(\u001b[0m\u001b[0marrays\u001b[0m\u001b[0;34m,\u001b[0m \u001b[0maxis\u001b[0m\u001b[0;34m=\u001b[0m\u001b[0;36m0\u001b[0m\u001b[0;34m)\u001b[0m\u001b[0;34m:\u001b[0m\u001b[0;34m\u001b[0m\u001b[0m\n",
      "\u001b[0;31mValueError\u001b[0m: all the input arrays must have same number of dimensions"
     ],
     "output_type": "error"
    }
   ],
   "source": [
    "clf_spam = SVC()\n",
    "spam_training = np.hstack((spam_train_set, spam_train_y.T))\n",
    "print(spam_train_set.shape, spam_train_y.T.shape)\n",
    "k_fold_split(spam_training, clf_spam, 5, 'SPAM')"
   ]
  },
  {
   "cell_type": "code",
   "execution_count": null,
   "metadata": {},
   "outputs": [],
   "source": [
    ""
   ]
  },
  {
   "cell_type": "markdown",
   "metadata": {},
   "source": [
    "\n"
   ]
  },
  {
   "cell_type": "code",
   "execution_count": null,
   "metadata": {},
   "outputs": [],
   "source": [
    "# ****************** PROBLEM 5: KAGGLE COMPETITION ***************\n",
    "# from sklearn import svm\n",
    "# #create four classifers\n",
    "# #in the constructor for the svc you need to make sure it's a binary classifier\n",
    "# clf1 = svm.SVC()\n",
    "# clf2 = svm.SVC()\n",
    "# clf3 = svm.SVC()\n",
    "# clf4 = svm.SVC()\n",
    "# \n",
    "# #add extra models to increase the hamming distance, get more room for errors\n",
    "# \n",
    "# #fit the data X to the labels yi where yi = {0,1}\n",
    "# #binary classifer\n",
    "# #this comes after you build y1, y2, y3, y4\n",
    "# clf1.fit(X, y1)\n",
    "# clf2.fit(X, y2)\n",
    "# clf3.fit(X, y3)\n",
    "# clf4.fit(X, y4)\n",
    "#"
   ]
  }
 ],
 "metadata": {
  "kernelspec": {
   "display_name": "Python 2",
   "language": "python",
   "name": "python2"
  },
  "language_info": {
   "codemirror_mode": {
    "name": "ipython",
    "version": 2.0
   },
   "file_extension": ".py",
   "mimetype": "text/x-python",
   "name": "python",
   "nbconvert_exporter": "python",
   "pygments_lexer": "ipython2",
   "version": "2.7.6"
  }
 },
 "nbformat": 4,
 "nbformat_minor": 0
}